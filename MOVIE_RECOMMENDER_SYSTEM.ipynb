{
  "nbformat": 4,
  "nbformat_minor": 0,
  "metadata": {
    "colab": {
      "name": "MOVIE_RECOMMENDER_SYSTEM.ipynb",
      "provenance": []
    },
    "kernelspec": {
      "name": "python3",
      "display_name": "Python 3"
    },
    "language_info": {
      "name": "python"
    }
  },
  "cells": [
    {
      "cell_type": "code",
      "metadata": {
        "id": "mU6FrSu7ZGXz"
      },
      "source": [
        "import pandas as pd\n",
        "import numpy as np\n",
        "import matplotlib.pyplot as plt\n",
        "import seaborn as sns\n",
        "%matplotlib inline\n",
        "#sns.set_style('whitegrid')"
      ],
      "execution_count": null,
      "outputs": []
    },
    {
      "cell_type": "code",
      "metadata": {
        "colab": {
          "base_uri": "https://localhost:8080/"
        },
        "id": "w-4bicogZror",
        "outputId": "3e1aa64b-90e4-475d-8cf7-67d0d44a96bb"
      },
      "source": [
        "from google.colab import drive\n",
        "drive.mount('/content/drive')"
      ],
      "execution_count": null,
      "outputs": [
        {
          "output_type": "stream",
          "text": [
            "Drive already mounted at /content/drive; to attempt to forcibly remount, call drive.mount(\"/content/drive\", force_remount=True).\n"
          ],
          "name": "stdout"
        }
      ]
    },
    {
      "cell_type": "code",
      "metadata": {
        "colab": {
          "base_uri": "https://localhost:8080/",
          "height": 377
        },
        "id": "snF7VWE9Z6j6",
        "outputId": "a4142dc5-2450-475d-9f33-8a8196b9521c"
      },
      "source": [
        "data=pd.read_csv(\"/content/movie_metadata.csv\")\n",
        "data.head()"
      ],
      "execution_count": null,
      "outputs": [
        {
          "output_type": "execute_result",
          "data": {
            "text/html": [
              "<div>\n",
              "<style scoped>\n",
              "    .dataframe tbody tr th:only-of-type {\n",
              "        vertical-align: middle;\n",
              "    }\n",
              "\n",
              "    .dataframe tbody tr th {\n",
              "        vertical-align: top;\n",
              "    }\n",
              "\n",
              "    .dataframe thead th {\n",
              "        text-align: right;\n",
              "    }\n",
              "</style>\n",
              "<table border=\"1\" class=\"dataframe\">\n",
              "  <thead>\n",
              "    <tr style=\"text-align: right;\">\n",
              "      <th></th>\n",
              "      <th>color</th>\n",
              "      <th>director_name</th>\n",
              "      <th>num_critic_for_reviews</th>\n",
              "      <th>duration</th>\n",
              "      <th>director_facebook_likes</th>\n",
              "      <th>actor_3_facebook_likes</th>\n",
              "      <th>actor_2_name</th>\n",
              "      <th>actor_1_facebook_likes</th>\n",
              "      <th>gross</th>\n",
              "      <th>genres</th>\n",
              "      <th>actor_1_name</th>\n",
              "      <th>movie_title</th>\n",
              "      <th>num_voted_users</th>\n",
              "      <th>cast_total_facebook_likes</th>\n",
              "      <th>actor_3_name</th>\n",
              "      <th>facenumber_in_poster</th>\n",
              "      <th>plot_keywords</th>\n",
              "      <th>movie_imdb_link</th>\n",
              "      <th>num_user_for_reviews</th>\n",
              "      <th>language</th>\n",
              "      <th>country</th>\n",
              "      <th>content_rating</th>\n",
              "      <th>budget</th>\n",
              "      <th>title_year</th>\n",
              "      <th>actor_2_facebook_likes</th>\n",
              "      <th>imdb_score</th>\n",
              "      <th>aspect_ratio</th>\n",
              "      <th>movie_facebook_likes</th>\n",
              "    </tr>\n",
              "  </thead>\n",
              "  <tbody>\n",
              "    <tr>\n",
              "      <th>0</th>\n",
              "      <td>Color</td>\n",
              "      <td>James Cameron</td>\n",
              "      <td>723.0</td>\n",
              "      <td>178.0</td>\n",
              "      <td>0.0</td>\n",
              "      <td>855.0</td>\n",
              "      <td>Joel David Moore</td>\n",
              "      <td>1000.0</td>\n",
              "      <td>760505847.0</td>\n",
              "      <td>Action|Adventure|Fantasy|Sci-Fi</td>\n",
              "      <td>CCH Pounder</td>\n",
              "      <td>Avatar</td>\n",
              "      <td>886204</td>\n",
              "      <td>4834</td>\n",
              "      <td>Wes Studi</td>\n",
              "      <td>0.0</td>\n",
              "      <td>avatar|future|marine|native|paraplegic</td>\n",
              "      <td>http://www.imdb.com/title/tt0499549/?ref_=fn_t...</td>\n",
              "      <td>3054.0</td>\n",
              "      <td>English</td>\n",
              "      <td>USA</td>\n",
              "      <td>PG-13</td>\n",
              "      <td>237000000.0</td>\n",
              "      <td>2009.0</td>\n",
              "      <td>936.0</td>\n",
              "      <td>7.9</td>\n",
              "      <td>1.78</td>\n",
              "      <td>33000</td>\n",
              "    </tr>\n",
              "    <tr>\n",
              "      <th>1</th>\n",
              "      <td>Color</td>\n",
              "      <td>Gore Verbinski</td>\n",
              "      <td>302.0</td>\n",
              "      <td>169.0</td>\n",
              "      <td>563.0</td>\n",
              "      <td>1000.0</td>\n",
              "      <td>Orlando Bloom</td>\n",
              "      <td>40000.0</td>\n",
              "      <td>309404152.0</td>\n",
              "      <td>Action|Adventure|Fantasy</td>\n",
              "      <td>Johnny Depp</td>\n",
              "      <td>Pirates of the Caribbean: At World's End</td>\n",
              "      <td>471220</td>\n",
              "      <td>48350</td>\n",
              "      <td>Jack Davenport</td>\n",
              "      <td>0.0</td>\n",
              "      <td>goddess|marriage ceremony|marriage proposal|pi...</td>\n",
              "      <td>http://www.imdb.com/title/tt0449088/?ref_=fn_t...</td>\n",
              "      <td>1238.0</td>\n",
              "      <td>English</td>\n",
              "      <td>USA</td>\n",
              "      <td>PG-13</td>\n",
              "      <td>300000000.0</td>\n",
              "      <td>2007.0</td>\n",
              "      <td>5000.0</td>\n",
              "      <td>7.1</td>\n",
              "      <td>2.35</td>\n",
              "      <td>0</td>\n",
              "    </tr>\n",
              "    <tr>\n",
              "      <th>2</th>\n",
              "      <td>Color</td>\n",
              "      <td>Sam Mendes</td>\n",
              "      <td>602.0</td>\n",
              "      <td>148.0</td>\n",
              "      <td>0.0</td>\n",
              "      <td>161.0</td>\n",
              "      <td>Rory Kinnear</td>\n",
              "      <td>11000.0</td>\n",
              "      <td>200074175.0</td>\n",
              "      <td>Action|Adventure|Thriller</td>\n",
              "      <td>Christoph Waltz</td>\n",
              "      <td>Spectre</td>\n",
              "      <td>275868</td>\n",
              "      <td>11700</td>\n",
              "      <td>Stephanie Sigman</td>\n",
              "      <td>1.0</td>\n",
              "      <td>bomb|espionage|sequel|spy|terrorist</td>\n",
              "      <td>http://www.imdb.com/title/tt2379713/?ref_=fn_t...</td>\n",
              "      <td>994.0</td>\n",
              "      <td>English</td>\n",
              "      <td>UK</td>\n",
              "      <td>PG-13</td>\n",
              "      <td>245000000.0</td>\n",
              "      <td>2015.0</td>\n",
              "      <td>393.0</td>\n",
              "      <td>6.8</td>\n",
              "      <td>2.35</td>\n",
              "      <td>85000</td>\n",
              "    </tr>\n",
              "    <tr>\n",
              "      <th>3</th>\n",
              "      <td>Color</td>\n",
              "      <td>Christopher Nolan</td>\n",
              "      <td>813.0</td>\n",
              "      <td>164.0</td>\n",
              "      <td>22000.0</td>\n",
              "      <td>23000.0</td>\n",
              "      <td>Christian Bale</td>\n",
              "      <td>27000.0</td>\n",
              "      <td>448130642.0</td>\n",
              "      <td>Action|Thriller</td>\n",
              "      <td>Tom Hardy</td>\n",
              "      <td>The Dark Knight Rises</td>\n",
              "      <td>1144337</td>\n",
              "      <td>106759</td>\n",
              "      <td>Joseph Gordon-Levitt</td>\n",
              "      <td>0.0</td>\n",
              "      <td>deception|imprisonment|lawlessness|police offi...</td>\n",
              "      <td>http://www.imdb.com/title/tt1345836/?ref_=fn_t...</td>\n",
              "      <td>2701.0</td>\n",
              "      <td>English</td>\n",
              "      <td>USA</td>\n",
              "      <td>PG-13</td>\n",
              "      <td>250000000.0</td>\n",
              "      <td>2012.0</td>\n",
              "      <td>23000.0</td>\n",
              "      <td>8.5</td>\n",
              "      <td>2.35</td>\n",
              "      <td>164000</td>\n",
              "    </tr>\n",
              "    <tr>\n",
              "      <th>4</th>\n",
              "      <td>NaN</td>\n",
              "      <td>Doug Walker</td>\n",
              "      <td>NaN</td>\n",
              "      <td>NaN</td>\n",
              "      <td>131.0</td>\n",
              "      <td>NaN</td>\n",
              "      <td>Rob Walker</td>\n",
              "      <td>131.0</td>\n",
              "      <td>NaN</td>\n",
              "      <td>Documentary</td>\n",
              "      <td>Doug Walker</td>\n",
              "      <td>Star Wars: Episode VII - The Force Awakens    ...</td>\n",
              "      <td>8</td>\n",
              "      <td>143</td>\n",
              "      <td>NaN</td>\n",
              "      <td>0.0</td>\n",
              "      <td>NaN</td>\n",
              "      <td>http://www.imdb.com/title/tt5289954/?ref_=fn_t...</td>\n",
              "      <td>NaN</td>\n",
              "      <td>NaN</td>\n",
              "      <td>NaN</td>\n",
              "      <td>NaN</td>\n",
              "      <td>NaN</td>\n",
              "      <td>NaN</td>\n",
              "      <td>12.0</td>\n",
              "      <td>7.1</td>\n",
              "      <td>NaN</td>\n",
              "      <td>0</td>\n",
              "    </tr>\n",
              "  </tbody>\n",
              "</table>\n",
              "</div>"
            ],
            "text/plain": [
              "   color      director_name  ...  aspect_ratio  movie_facebook_likes\n",
              "0  Color      James Cameron  ...          1.78                 33000\n",
              "1  Color     Gore Verbinski  ...          2.35                     0\n",
              "2  Color         Sam Mendes  ...          2.35                 85000\n",
              "3  Color  Christopher Nolan  ...          2.35                164000\n",
              "4    NaN        Doug Walker  ...           NaN                     0\n",
              "\n",
              "[5 rows x 28 columns]"
            ]
          },
          "metadata": {
            "tags": []
          },
          "execution_count": 102
        }
      ]
    },
    {
      "cell_type": "code",
      "metadata": {
        "colab": {
          "base_uri": "https://localhost:8080/"
        },
        "id": "U3oIcDmtaHpW",
        "outputId": "2eb8c6c8-d330-44bb-a6a2-a1cefa42a2a6"
      },
      "source": [
        "data.columns"
      ],
      "execution_count": null,
      "outputs": [
        {
          "output_type": "execute_result",
          "data": {
            "text/plain": [
              "Index(['color', 'director_name', 'num_critic_for_reviews', 'duration',\n",
              "       'director_facebook_likes', 'actor_3_facebook_likes', 'actor_2_name',\n",
              "       'actor_1_facebook_likes', 'gross', 'genres', 'actor_1_name',\n",
              "       'movie_title', 'num_voted_users', 'cast_total_facebook_likes',\n",
              "       'actor_3_name', 'facenumber_in_poster', 'plot_keywords',\n",
              "       'movie_imdb_link', 'num_user_for_reviews', 'language', 'country',\n",
              "       'content_rating', 'budget', 'title_year', 'actor_2_facebook_likes',\n",
              "       'imdb_score', 'aspect_ratio', 'movie_facebook_likes'],\n",
              "      dtype='object')"
            ]
          },
          "metadata": {
            "tags": []
          },
          "execution_count": 103
        }
      ]
    },
    {
      "cell_type": "code",
      "metadata": {
        "colab": {
          "base_uri": "https://localhost:8080/"
        },
        "id": "hr0G7mMCaSiP",
        "outputId": "73ca67de-74f2-40ee-be99-8459a217675b"
      },
      "source": [
        "data.info"
      ],
      "execution_count": null,
      "outputs": [
        {
          "output_type": "execute_result",
          "data": {
            "text/plain": [
              "<bound method DataFrame.info of       color      director_name  ...  aspect_ratio  movie_facebook_likes\n",
              "0     Color      James Cameron  ...          1.78                 33000\n",
              "1     Color     Gore Verbinski  ...          2.35                     0\n",
              "2     Color         Sam Mendes  ...          2.35                 85000\n",
              "3     Color  Christopher Nolan  ...          2.35                164000\n",
              "4       NaN        Doug Walker  ...           NaN                     0\n",
              "...     ...                ...  ...           ...                   ...\n",
              "5038  Color        Scott Smith  ...           NaN                    84\n",
              "5039  Color                NaN  ...         16.00                 32000\n",
              "5040  Color   Benjamin Roberds  ...           NaN                    16\n",
              "5041  Color        Daniel Hsia  ...          2.35                   660\n",
              "5042  Color           Jon Gunn  ...          1.85                   456\n",
              "\n",
              "[5043 rows x 28 columns]>"
            ]
          },
          "metadata": {
            "tags": []
          },
          "execution_count": 104
        }
      ]
    },
    {
      "cell_type": "code",
      "metadata": {
        "colab": {
          "base_uri": "https://localhost:8080/"
        },
        "id": "qv9gECqgaZ47",
        "outputId": "fad0f9f3-5a3f-4903-9d35-2ce8b44ea1f4"
      },
      "source": [
        "data.isnull().sum()"
      ],
      "execution_count": null,
      "outputs": [
        {
          "output_type": "execute_result",
          "data": {
            "text/plain": [
              "color                         19\n",
              "director_name                104\n",
              "num_critic_for_reviews        50\n",
              "duration                      15\n",
              "director_facebook_likes      104\n",
              "actor_3_facebook_likes        23\n",
              "actor_2_name                  13\n",
              "actor_1_facebook_likes         7\n",
              "gross                        884\n",
              "genres                         0\n",
              "actor_1_name                   7\n",
              "movie_title                    0\n",
              "num_voted_users                0\n",
              "cast_total_facebook_likes      0\n",
              "actor_3_name                  23\n",
              "facenumber_in_poster          13\n",
              "plot_keywords                153\n",
              "movie_imdb_link                0\n",
              "num_user_for_reviews          21\n",
              "language                      12\n",
              "country                        5\n",
              "content_rating               303\n",
              "budget                       492\n",
              "title_year                   108\n",
              "actor_2_facebook_likes        13\n",
              "imdb_score                     0\n",
              "aspect_ratio                 329\n",
              "movie_facebook_likes           0\n",
              "dtype: int64"
            ]
          },
          "metadata": {
            "tags": []
          },
          "execution_count": 105
        }
      ]
    },
    {
      "cell_type": "code",
      "metadata": {
        "colab": {
          "base_uri": "https://localhost:8080/"
        },
        "id": "WNtua6wEafnX",
        "outputId": "a35e2cca-09da-4f07-99ba-7814b6a0205f"
      },
      "source": [
        "data.shape"
      ],
      "execution_count": null,
      "outputs": [
        {
          "output_type": "execute_result",
          "data": {
            "text/plain": [
              "(5043, 28)"
            ]
          },
          "metadata": {
            "tags": []
          },
          "execution_count": 106
        }
      ]
    },
    {
      "cell_type": "code",
      "metadata": {
        "colab": {
          "base_uri": "https://localhost:8080/"
        },
        "id": "Qd7-5OMPakqf",
        "outputId": "0a51b694-68a8-4552-e4fa-01a53121a2e8"
      },
      "source": [
        "data.drop_duplicates(inplace=True)\n",
        "data.shape"
      ],
      "execution_count": null,
      "outputs": [
        {
          "output_type": "execute_result",
          "data": {
            "text/plain": [
              "(4998, 28)"
            ]
          },
          "metadata": {
            "tags": []
          },
          "execution_count": 107
        }
      ]
    },
    {
      "cell_type": "code",
      "metadata": {
        "id": "f1BvXWMpauvh"
      },
      "source": [
        "numerical_cols = [col for col in data.columns if data[col].dtype != 'object']\n",
        "categorical_cols = [col for col in data.columns if data[col].dtype == 'object']"
      ],
      "execution_count": null,
      "outputs": []
    },
    {
      "cell_type": "code",
      "metadata": {
        "colab": {
          "base_uri": "https://localhost:8080/",
          "height": 545
        },
        "id": "RRgZ83JUa4B3",
        "outputId": "6c69b3ac-34c4-4fe7-b309-13855180d142"
      },
      "source": [
        "data.describe().T"
      ],
      "execution_count": null,
      "outputs": [
        {
          "output_type": "execute_result",
          "data": {
            "text/html": [
              "<div>\n",
              "<style scoped>\n",
              "    .dataframe tbody tr th:only-of-type {\n",
              "        vertical-align: middle;\n",
              "    }\n",
              "\n",
              "    .dataframe tbody tr th {\n",
              "        vertical-align: top;\n",
              "    }\n",
              "\n",
              "    .dataframe thead th {\n",
              "        text-align: right;\n",
              "    }\n",
              "</style>\n",
              "<table border=\"1\" class=\"dataframe\">\n",
              "  <thead>\n",
              "    <tr style=\"text-align: right;\">\n",
              "      <th></th>\n",
              "      <th>count</th>\n",
              "      <th>mean</th>\n",
              "      <th>std</th>\n",
              "      <th>min</th>\n",
              "      <th>25%</th>\n",
              "      <th>50%</th>\n",
              "      <th>75%</th>\n",
              "      <th>max</th>\n",
              "    </tr>\n",
              "  </thead>\n",
              "  <tbody>\n",
              "    <tr>\n",
              "      <th>num_critic_for_reviews</th>\n",
              "      <td>4949.0</td>\n",
              "      <td>1.398901e+02</td>\n",
              "      <td>1.214776e+02</td>\n",
              "      <td>1.00</td>\n",
              "      <td>50.00</td>\n",
              "      <td>110.00</td>\n",
              "      <td>195.00</td>\n",
              "      <td>8.130000e+02</td>\n",
              "    </tr>\n",
              "    <tr>\n",
              "      <th>duration</th>\n",
              "      <td>4983.0</td>\n",
              "      <td>1.072133e+02</td>\n",
              "      <td>2.524878e+01</td>\n",
              "      <td>7.00</td>\n",
              "      <td>93.00</td>\n",
              "      <td>103.00</td>\n",
              "      <td>118.00</td>\n",
              "      <td>5.110000e+02</td>\n",
              "    </tr>\n",
              "    <tr>\n",
              "      <th>director_facebook_likes</th>\n",
              "      <td>4895.0</td>\n",
              "      <td>6.886791e+02</td>\n",
              "      <td>2.821650e+03</td>\n",
              "      <td>0.00</td>\n",
              "      <td>7.00</td>\n",
              "      <td>49.00</td>\n",
              "      <td>192.00</td>\n",
              "      <td>2.300000e+04</td>\n",
              "    </tr>\n",
              "    <tr>\n",
              "      <th>actor_3_facebook_likes</th>\n",
              "      <td>4975.0</td>\n",
              "      <td>6.399009e+02</td>\n",
              "      <td>1.643298e+03</td>\n",
              "      <td>0.00</td>\n",
              "      <td>133.00</td>\n",
              "      <td>369.00</td>\n",
              "      <td>635.00</td>\n",
              "      <td>2.300000e+04</td>\n",
              "    </tr>\n",
              "    <tr>\n",
              "      <th>actor_1_facebook_likes</th>\n",
              "      <td>4991.0</td>\n",
              "      <td>6.556940e+03</td>\n",
              "      <td>1.506159e+04</td>\n",
              "      <td>0.00</td>\n",
              "      <td>611.50</td>\n",
              "      <td>984.00</td>\n",
              "      <td>11000.00</td>\n",
              "      <td>6.400000e+05</td>\n",
              "    </tr>\n",
              "    <tr>\n",
              "      <th>gross</th>\n",
              "      <td>4124.0</td>\n",
              "      <td>4.832565e+07</td>\n",
              "      <td>6.796483e+07</td>\n",
              "      <td>162.00</td>\n",
              "      <td>5304835.25</td>\n",
              "      <td>25445749.00</td>\n",
              "      <td>62319416.00</td>\n",
              "      <td>7.605058e+08</td>\n",
              "    </tr>\n",
              "    <tr>\n",
              "      <th>num_voted_users</th>\n",
              "      <td>4998.0</td>\n",
              "      <td>8.347020e+04</td>\n",
              "      <td>1.380866e+05</td>\n",
              "      <td>5.00</td>\n",
              "      <td>8560.00</td>\n",
              "      <td>34260.50</td>\n",
              "      <td>96120.75</td>\n",
              "      <td>1.689764e+06</td>\n",
              "    </tr>\n",
              "    <tr>\n",
              "      <th>cast_total_facebook_likes</th>\n",
              "      <td>4998.0</td>\n",
              "      <td>9.676941e+03</td>\n",
              "      <td>1.816540e+04</td>\n",
              "      <td>0.00</td>\n",
              "      <td>1405.50</td>\n",
              "      <td>3085.50</td>\n",
              "      <td>13740.50</td>\n",
              "      <td>6.567300e+05</td>\n",
              "    </tr>\n",
              "    <tr>\n",
              "      <th>facenumber_in_poster</th>\n",
              "      <td>4985.0</td>\n",
              "      <td>1.368907e+00</td>\n",
              "      <td>2.014623e+00</td>\n",
              "      <td>0.00</td>\n",
              "      <td>0.00</td>\n",
              "      <td>1.00</td>\n",
              "      <td>2.00</td>\n",
              "      <td>4.300000e+01</td>\n",
              "    </tr>\n",
              "    <tr>\n",
              "      <th>num_user_for_reviews</th>\n",
              "      <td>4977.0</td>\n",
              "      <td>2.720147e+02</td>\n",
              "      <td>3.777762e+02</td>\n",
              "      <td>1.00</td>\n",
              "      <td>64.00</td>\n",
              "      <td>156.00</td>\n",
              "      <td>324.00</td>\n",
              "      <td>5.060000e+03</td>\n",
              "    </tr>\n",
              "    <tr>\n",
              "      <th>budget</th>\n",
              "      <td>4511.0</td>\n",
              "      <td>3.974787e+07</td>\n",
              "      <td>2.069689e+08</td>\n",
              "      <td>218.00</td>\n",
              "      <td>6000000.00</td>\n",
              "      <td>20000000.00</td>\n",
              "      <td>45000000.00</td>\n",
              "      <td>1.221550e+10</td>\n",
              "    </tr>\n",
              "    <tr>\n",
              "      <th>title_year</th>\n",
              "      <td>4891.0</td>\n",
              "      <td>2.002469e+03</td>\n",
              "      <td>1.247524e+01</td>\n",
              "      <td>1916.00</td>\n",
              "      <td>1999.00</td>\n",
              "      <td>2005.00</td>\n",
              "      <td>2011.00</td>\n",
              "      <td>2.016000e+03</td>\n",
              "    </tr>\n",
              "    <tr>\n",
              "      <th>actor_2_facebook_likes</th>\n",
              "      <td>4985.0</td>\n",
              "      <td>1.642999e+03</td>\n",
              "      <td>4.030925e+03</td>\n",
              "      <td>0.00</td>\n",
              "      <td>280.00</td>\n",
              "      <td>595.00</td>\n",
              "      <td>917.00</td>\n",
              "      <td>1.370000e+05</td>\n",
              "    </tr>\n",
              "    <tr>\n",
              "      <th>imdb_score</th>\n",
              "      <td>4998.0</td>\n",
              "      <td>6.441056e+00</td>\n",
              "      <td>1.124107e+00</td>\n",
              "      <td>1.60</td>\n",
              "      <td>5.80</td>\n",
              "      <td>6.60</td>\n",
              "      <td>7.20</td>\n",
              "      <td>9.500000e+00</td>\n",
              "    </tr>\n",
              "    <tr>\n",
              "      <th>aspect_ratio</th>\n",
              "      <td>4671.0</td>\n",
              "      <td>2.221417e+00</td>\n",
              "      <td>1.391185e+00</td>\n",
              "      <td>1.18</td>\n",
              "      <td>1.85</td>\n",
              "      <td>2.35</td>\n",
              "      <td>2.35</td>\n",
              "      <td>1.600000e+01</td>\n",
              "    </tr>\n",
              "    <tr>\n",
              "      <th>movie_facebook_likes</th>\n",
              "      <td>4998.0</td>\n",
              "      <td>7.487430e+03</td>\n",
              "      <td>1.929073e+04</td>\n",
              "      <td>0.00</td>\n",
              "      <td>0.00</td>\n",
              "      <td>162.50</td>\n",
              "      <td>3000.00</td>\n",
              "      <td>3.490000e+05</td>\n",
              "    </tr>\n",
              "  </tbody>\n",
              "</table>\n",
              "</div>"
            ],
            "text/plain": [
              "                            count          mean  ...          75%           max\n",
              "num_critic_for_reviews     4949.0  1.398901e+02  ...       195.00  8.130000e+02\n",
              "duration                   4983.0  1.072133e+02  ...       118.00  5.110000e+02\n",
              "director_facebook_likes    4895.0  6.886791e+02  ...       192.00  2.300000e+04\n",
              "actor_3_facebook_likes     4975.0  6.399009e+02  ...       635.00  2.300000e+04\n",
              "actor_1_facebook_likes     4991.0  6.556940e+03  ...     11000.00  6.400000e+05\n",
              "gross                      4124.0  4.832565e+07  ...  62319416.00  7.605058e+08\n",
              "num_voted_users            4998.0  8.347020e+04  ...     96120.75  1.689764e+06\n",
              "cast_total_facebook_likes  4998.0  9.676941e+03  ...     13740.50  6.567300e+05\n",
              "facenumber_in_poster       4985.0  1.368907e+00  ...         2.00  4.300000e+01\n",
              "num_user_for_reviews       4977.0  2.720147e+02  ...       324.00  5.060000e+03\n",
              "budget                     4511.0  3.974787e+07  ...  45000000.00  1.221550e+10\n",
              "title_year                 4891.0  2.002469e+03  ...      2011.00  2.016000e+03\n",
              "actor_2_facebook_likes     4985.0  1.642999e+03  ...       917.00  1.370000e+05\n",
              "imdb_score                 4998.0  6.441056e+00  ...         7.20  9.500000e+00\n",
              "aspect_ratio               4671.0  2.221417e+00  ...         2.35  1.600000e+01\n",
              "movie_facebook_likes       4998.0  7.487430e+03  ...      3000.00  3.490000e+05\n",
              "\n",
              "[16 rows x 8 columns]"
            ]
          },
          "metadata": {
            "tags": []
          },
          "execution_count": 109
        }
      ]
    },
    {
      "cell_type": "code",
      "metadata": {
        "colab": {
          "base_uri": "https://localhost:8080/"
        },
        "id": "-wY9YJH3a7rk",
        "outputId": "18f9e3a2-f015-4006-d6e5-e3351757ac39"
      },
      "source": [
        "color_mode = data['color'].mode().iloc[0]\n",
        "data.color.fillna(color_mode, inplace = True)\n",
        "data.color.isnull().sum()"
      ],
      "execution_count": null,
      "outputs": [
        {
          "output_type": "execute_result",
          "data": {
            "text/plain": [
              "0"
            ]
          },
          "metadata": {
            "tags": []
          },
          "execution_count": 110
        }
      ]
    },
    {
      "cell_type": "code",
      "metadata": {
        "id": "r07z78izbFgm"
      },
      "source": [
        "data = data.dropna(axis = 0, subset = ['director_name'] )"
      ],
      "execution_count": null,
      "outputs": []
    },
    {
      "cell_type": "code",
      "metadata": {
        "colab": {
          "base_uri": "https://localhost:8080/"
        },
        "id": "bYtiH9CUbIpz",
        "outputId": "2905bbed-22cb-4caa-fd6d-a23f31600016"
      },
      "source": [
        "data.num_critic_for_reviews.min(), data.num_critic_for_reviews.max(), data.num_critic_for_reviews.median()"
      ],
      "execution_count": null,
      "outputs": [
        {
          "output_type": "execute_result",
          "data": {
            "text/plain": [
              "(1.0, 813.0, 112.0)"
            ]
          },
          "metadata": {
            "tags": []
          },
          "execution_count": 112
        }
      ]
    },
    {
      "cell_type": "code",
      "metadata": {
        "colab": {
          "base_uri": "https://localhost:8080/"
        },
        "id": "PRrA5hIxbPUV",
        "outputId": "6c93521e-ccb5-4fa2-cfc8-e6eb8a829815"
      },
      "source": [
        "num_critic_for_reviews_median = data['num_critic_for_reviews'].median()\n",
        "data.num_critic_for_reviews.fillna(num_critic_for_reviews_median, inplace = True)\n",
        "data.num_critic_for_reviews.isnull().sum()"
      ],
      "execution_count": null,
      "outputs": [
        {
          "output_type": "stream",
          "text": [
            "/usr/local/lib/python3.7/dist-packages/pandas/core/series.py:4536: SettingWithCopyWarning: \n",
            "A value is trying to be set on a copy of a slice from a DataFrame\n",
            "\n",
            "See the caveats in the documentation: https://pandas.pydata.org/pandas-docs/stable/user_guide/indexing.html#returning-a-view-versus-a-copy\n",
            "  downcast=downcast,\n"
          ],
          "name": "stderr"
        },
        {
          "output_type": "execute_result",
          "data": {
            "text/plain": [
              "0"
            ]
          },
          "metadata": {
            "tags": []
          },
          "execution_count": 113
        }
      ]
    },
    {
      "cell_type": "code",
      "metadata": {
        "colab": {
          "base_uri": "https://localhost:8080/"
        },
        "id": "gwWpUiSmbfJ0",
        "outputId": "4b859288-5005-4adc-9415-899286a13474"
      },
      "source": [
        "duration_median = data.duration.median()\n",
        "data.duration.fillna(duration_median, inplace=True)\n",
        "data.duration.isnull().sum()"
      ],
      "execution_count": null,
      "outputs": [
        {
          "output_type": "stream",
          "text": [
            "/usr/local/lib/python3.7/dist-packages/pandas/core/series.py:4536: SettingWithCopyWarning: \n",
            "A value is trying to be set on a copy of a slice from a DataFrame\n",
            "\n",
            "See the caveats in the documentation: https://pandas.pydata.org/pandas-docs/stable/user_guide/indexing.html#returning-a-view-versus-a-copy\n",
            "  downcast=downcast,\n"
          ],
          "name": "stderr"
        },
        {
          "output_type": "execute_result",
          "data": {
            "text/plain": [
              "0"
            ]
          },
          "metadata": {
            "tags": []
          },
          "execution_count": 114
        }
      ]
    },
    {
      "cell_type": "code",
      "metadata": {
        "colab": {
          "base_uri": "https://localhost:8080/"
        },
        "id": "IEn6rRV5bmO3",
        "outputId": "30b1763a-3ed3-4167-cf53-eb6d340d5185"
      },
      "source": [
        "data.actor_3_facebook_likes.min(), data.actor_3_facebook_likes.max(), data.actor_3_facebook_likes.median(),data.actor_3_facebook_likes.mean()"
      ],
      "execution_count": null,
      "outputs": [
        {
          "output_type": "execute_result",
          "data": {
            "text/plain": [
              "(0.0, 23000.0, 372.0, 646.1009230769231)"
            ]
          },
          "metadata": {
            "tags": []
          },
          "execution_count": 115
        }
      ]
    },
    {
      "cell_type": "code",
      "metadata": {
        "colab": {
          "base_uri": "https://localhost:8080/"
        },
        "id": "C-mExU26bwxs",
        "outputId": "787251c2-19f5-4db4-c8cb-dbc8086a3adb"
      },
      "source": [
        "actor_3_facebook_likes_mean = data.actor_3_facebook_likes.mean()\n",
        "data.actor_3_facebook_likes.fillna(actor_3_facebook_likes_mean, inplace = True)\n",
        "data.actor_3_facebook_likes.isnull().sum()"
      ],
      "execution_count": null,
      "outputs": [
        {
          "output_type": "stream",
          "text": [
            "/usr/local/lib/python3.7/dist-packages/pandas/core/series.py:4536: SettingWithCopyWarning: \n",
            "A value is trying to be set on a copy of a slice from a DataFrame\n",
            "\n",
            "See the caveats in the documentation: https://pandas.pydata.org/pandas-docs/stable/user_guide/indexing.html#returning-a-view-versus-a-copy\n",
            "  downcast=downcast,\n"
          ],
          "name": "stderr"
        },
        {
          "output_type": "execute_result",
          "data": {
            "text/plain": [
              "0"
            ]
          },
          "metadata": {
            "tags": []
          },
          "execution_count": 116
        }
      ]
    },
    {
      "cell_type": "code",
      "metadata": {
        "colab": {
          "base_uri": "https://localhost:8080/"
        },
        "id": "x99dk6fsb3p1",
        "outputId": "fb2edebe-bb8b-40bc-b377-ff6fe3ea66b7"
      },
      "source": [
        "data = data.dropna(axis = 0, subset = ['actor_2_name'])\n",
        "data.actor_2_name.isnull().sum()"
      ],
      "execution_count": null,
      "outputs": [
        {
          "output_type": "execute_result",
          "data": {
            "text/plain": [
              "0"
            ]
          },
          "metadata": {
            "tags": []
          },
          "execution_count": 117
        }
      ]
    },
    {
      "cell_type": "code",
      "metadata": {
        "colab": {
          "base_uri": "https://localhost:8080/"
        },
        "id": "ppPXlMfkb8Qb",
        "outputId": "1d5e5528-56eb-41bf-af83-956e2cf1499a"
      },
      "source": [
        "actor_1_facebook_likes_mean = data.actor_1_facebook_likes.mean()\n",
        "data.actor_1_facebook_likes.fillna(actor_1_facebook_likes_mean, inplace = True)\n",
        "data.actor_1_facebook_likes.isnull().sum()"
      ],
      "execution_count": null,
      "outputs": [
        {
          "output_type": "execute_result",
          "data": {
            "text/plain": [
              "0"
            ]
          },
          "metadata": {
            "tags": []
          },
          "execution_count": 118
        }
      ]
    },
    {
      "cell_type": "code",
      "metadata": {
        "colab": {
          "base_uri": "https://localhost:8080/"
        },
        "id": "pmYgF6pCcFg_",
        "outputId": "e00640dc-a91f-4c4b-d298-af10e3db1636"
      },
      "source": [
        "data = data.dropna(axis = 0, subset = ['gross'])\n",
        "data.gross.isnull().sum()"
      ],
      "execution_count": null,
      "outputs": [
        {
          "output_type": "execute_result",
          "data": {
            "text/plain": [
              "0"
            ]
          },
          "metadata": {
            "tags": []
          },
          "execution_count": 119
        }
      ]
    },
    {
      "cell_type": "code",
      "metadata": {
        "colab": {
          "base_uri": "https://localhost:8080/"
        },
        "id": "W_rF5gnccKXz",
        "outputId": "e7e3eb45-dea5-4156-e80f-935828a24d7f"
      },
      "source": [
        "data.shape\n",
        "data.isnull().sum()"
      ],
      "execution_count": null,
      "outputs": [
        {
          "output_type": "execute_result",
          "data": {
            "text/plain": [
              "color                          0\n",
              "director_name                  0\n",
              "num_critic_for_reviews         0\n",
              "duration                       0\n",
              "director_facebook_likes        0\n",
              "actor_3_facebook_likes         0\n",
              "actor_2_name                   0\n",
              "actor_1_facebook_likes         0\n",
              "gross                          0\n",
              "genres                         0\n",
              "actor_1_name                   0\n",
              "movie_title                    0\n",
              "num_voted_users                0\n",
              "cast_total_facebook_likes      0\n",
              "actor_3_name                   7\n",
              "facenumber_in_poster           7\n",
              "plot_keywords                 39\n",
              "movie_imdb_link                0\n",
              "num_user_for_reviews           1\n",
              "language                       3\n",
              "country                        0\n",
              "content_rating                60\n",
              "budget                       263\n",
              "title_year                     0\n",
              "actor_2_facebook_likes         0\n",
              "imdb_score                     0\n",
              "aspect_ratio                 102\n",
              "movie_facebook_likes           0\n",
              "dtype: int64"
            ]
          },
          "metadata": {
            "tags": []
          },
          "execution_count": 120
        }
      ]
    },
    {
      "cell_type": "code",
      "metadata": {
        "colab": {
          "base_uri": "https://localhost:8080/"
        },
        "id": "mDcpVVGucYta",
        "outputId": "e7863615-f5e9-49e0-b835-5f7eaaf8f429"
      },
      "source": [
        "data = data.dropna(axis = 0, subset = ['budget'])\n",
        "data.budget.isnull().sum()"
      ],
      "execution_count": null,
      "outputs": [
        {
          "output_type": "execute_result",
          "data": {
            "text/plain": [
              "0"
            ]
          },
          "metadata": {
            "tags": []
          },
          "execution_count": 121
        }
      ]
    },
    {
      "cell_type": "code",
      "metadata": {
        "colab": {
          "base_uri": "https://localhost:8080/"
        },
        "id": "6knJuZX0ce7B",
        "outputId": "6026cc6a-9b33-4354-f656-8e198e8f70db"
      },
      "source": [
        "data = data.dropna(axis = 0, subset = ['actor_3_name'])\n",
        "data.actor_3_name.isnull().sum()"
      ],
      "execution_count": null,
      "outputs": [
        {
          "output_type": "execute_result",
          "data": {
            "text/plain": [
              "0"
            ]
          },
          "metadata": {
            "tags": []
          },
          "execution_count": 122
        }
      ]
    },
    {
      "cell_type": "code",
      "metadata": {
        "colab": {
          "base_uri": "https://localhost:8080/"
        },
        "id": "alEyXmzPcmrV",
        "outputId": "54771068-1b3f-4967-987a-708529ba09c2"
      },
      "source": [
        "facenumber_in_poster_median = data.facenumber_in_poster.median()\n",
        "data.facenumber_in_poster.fillna(facenumber_in_poster_median, inplace = True)\n",
        "data.facenumber_in_poster.isnull().sum()"
      ],
      "execution_count": null,
      "outputs": [
        {
          "output_type": "execute_result",
          "data": {
            "text/plain": [
              "0"
            ]
          },
          "metadata": {
            "tags": []
          },
          "execution_count": 123
        }
      ]
    },
    {
      "cell_type": "code",
      "metadata": {
        "colab": {
          "base_uri": "https://localhost:8080/"
        },
        "id": "NvCGwvejctgM",
        "outputId": "c581f017-b9e9-4c24-ddf3-1c3133188a5e"
      },
      "source": [
        "language_mode = data.language.mode().iloc[0]\n",
        "data.language.fillna(language_mode, inplace = True)\n",
        "data.language.isnull().sum()"
      ],
      "execution_count": null,
      "outputs": [
        {
          "output_type": "execute_result",
          "data": {
            "text/plain": [
              "0"
            ]
          },
          "metadata": {
            "tags": []
          },
          "execution_count": 124
        }
      ]
    },
    {
      "cell_type": "code",
      "metadata": {
        "colab": {
          "base_uri": "https://localhost:8080/"
        },
        "id": "SWDWxqbzcySu",
        "outputId": "e06e912a-0655-48ae-de31-554f85d68f3d"
      },
      "source": [
        "data = data.dropna(axis = 0, subset = ['plot_keywords'])\n",
        "data.plot_keywords.isnull().sum()"
      ],
      "execution_count": null,
      "outputs": [
        {
          "output_type": "execute_result",
          "data": {
            "text/plain": [
              "0"
            ]
          },
          "metadata": {
            "tags": []
          },
          "execution_count": 125
        }
      ]
    },
    {
      "cell_type": "code",
      "metadata": {
        "colab": {
          "base_uri": "https://localhost:8080/"
        },
        "id": "yNRep3foc6fl",
        "outputId": "7e7b4091-daa6-456d-d40f-4b325e5d2070"
      },
      "source": [
        "data.content_rating.unique()"
      ],
      "execution_count": null,
      "outputs": [
        {
          "output_type": "execute_result",
          "data": {
            "text/plain": [
              "array(['PG-13', 'PG', 'G', 'R', 'Approved', 'NC-17', nan, 'X',\n",
              "       'Not Rated', 'Unrated', 'M', 'GP', 'Passed'], dtype=object)"
            ]
          },
          "metadata": {
            "tags": []
          },
          "execution_count": 126
        }
      ]
    },
    {
      "cell_type": "code",
      "metadata": {
        "id": "Wf9eEIQcc_GT"
      },
      "source": [
        "data.content_rating.fillna('Not Rated', inplace = True)"
      ],
      "execution_count": null,
      "outputs": []
    },
    {
      "cell_type": "code",
      "metadata": {
        "colab": {
          "base_uri": "https://localhost:8080/"
        },
        "id": "6au-Z_KndBiW",
        "outputId": "01ac9cc0-4943-4c3b-f93e-2803ebf24312"
      },
      "source": [
        "data.aspect_ratio.unique()"
      ],
      "execution_count": null,
      "outputs": [
        {
          "output_type": "execute_result",
          "data": {
            "text/plain": [
              "array([ 1.78,  2.35,  1.85,  2.  ,  2.2 ,  2.39,  2.24,  1.66,  1.5 ,\n",
              "        1.77,  2.4 ,  1.37,   nan,  2.76,  1.33,  1.18,  2.55,  1.75,\n",
              "       16.  ])"
            ]
          },
          "metadata": {
            "tags": []
          },
          "execution_count": 128
        }
      ]
    },
    {
      "cell_type": "code",
      "metadata": {
        "id": "e0muq8DjdIRe"
      },
      "source": [
        "aspect_ratio_mode = data.aspect_ratio.mode().iloc[0]\n",
        "data.aspect_ratio.fillna(aspect_ratio_mode, inplace = True)  "
      ],
      "execution_count": null,
      "outputs": []
    },
    {
      "cell_type": "code",
      "metadata": {
        "colab": {
          "base_uri": "https://localhost:8080/"
        },
        "id": "G1HsLDPgdMoc",
        "outputId": "da2ae290-abb0-414a-97a3-75cd4430e378"
      },
      "source": [
        "data.isnull().sum()"
      ],
      "execution_count": null,
      "outputs": [
        {
          "output_type": "execute_result",
          "data": {
            "text/plain": [
              "color                        0\n",
              "director_name                0\n",
              "num_critic_for_reviews       0\n",
              "duration                     0\n",
              "director_facebook_likes      0\n",
              "actor_3_facebook_likes       0\n",
              "actor_2_name                 0\n",
              "actor_1_facebook_likes       0\n",
              "gross                        0\n",
              "genres                       0\n",
              "actor_1_name                 0\n",
              "movie_title                  0\n",
              "num_voted_users              0\n",
              "cast_total_facebook_likes    0\n",
              "actor_3_name                 0\n",
              "facenumber_in_poster         0\n",
              "plot_keywords                0\n",
              "movie_imdb_link              0\n",
              "num_user_for_reviews         0\n",
              "language                     0\n",
              "country                      0\n",
              "content_rating               0\n",
              "budget                       0\n",
              "title_year                   0\n",
              "actor_2_facebook_likes       0\n",
              "imdb_score                   0\n",
              "aspect_ratio                 0\n",
              "movie_facebook_likes         0\n",
              "dtype: int64"
            ]
          },
          "metadata": {
            "tags": []
          },
          "execution_count": 130
        }
      ]
    },
    {
      "cell_type": "code",
      "metadata": {
        "colab": {
          "base_uri": "https://localhost:8080/"
        },
        "id": "NECiFgOMdWUB",
        "outputId": "738d28a7-9343-4e61-db80-c76d0edf190a"
      },
      "source": [
        "data.color.unique(), data.color.nunique()"
      ],
      "execution_count": null,
      "outputs": [
        {
          "output_type": "execute_result",
          "data": {
            "text/plain": [
              "(array(['Color', ' Black and White'], dtype=object), 2)"
            ]
          },
          "metadata": {
            "tags": []
          },
          "execution_count": 131
        }
      ]
    },
    {
      "cell_type": "code",
      "metadata": {
        "id": "h5KA8oOUdcwN"
      },
      "source": [
        "data['color'] = data.color.map({'Color' : 1 , ' Black and White' : 0})"
      ],
      "execution_count": null,
      "outputs": []
    },
    {
      "cell_type": "code",
      "metadata": {
        "colab": {
          "base_uri": "https://localhost:8080/"
        },
        "id": "azUgTEizdg4o",
        "outputId": "af5d34b9-8327-495b-9847-ca6367d11a60"
      },
      "source": [
        "data.director_name.unique(), data.director_name.nunique()"
      ],
      "execution_count": null,
      "outputs": [
        {
          "output_type": "execute_result",
          "data": {
            "text/plain": [
              "(array(['James Cameron', 'Gore Verbinski', 'Sam Mendes', ...,\n",
              "        'Kiyoshi Kurosawa', 'Shane Carruth', 'Neill Dela Llana'],\n",
              "       dtype=object), 1723)"
            ]
          },
          "metadata": {
            "tags": []
          },
          "execution_count": 133
        }
      ]
    },
    {
      "cell_type": "code",
      "metadata": {
        "id": "8CfBL8-Rdoci"
      },
      "source": [
        "director_name_value_counts = data.director_name.value_counts()\n",
        "director_name_value_counts  = pd.DataFrame(director_name_value_counts).reset_index().rename(columns = {'index': 'director_name', 'director_name':'director_name_value_counts'})"
      ],
      "execution_count": null,
      "outputs": []
    },
    {
      "cell_type": "code",
      "metadata": {
        "id": "rhToy0NTdxB6"
      },
      "source": [
        "data = pd.merge(data, director_name_value_counts,left_on = 'director_name', right_on = 'director_name', how = 'left')\n"
      ],
      "execution_count": null,
      "outputs": []
    },
    {
      "cell_type": "code",
      "metadata": {
        "id": "DFEbZyJLd7OA"
      },
      "source": [
        "data = data.drop(columns = 'director_name')"
      ],
      "execution_count": null,
      "outputs": []
    },
    {
      "cell_type": "code",
      "metadata": {
        "id": "ZwA8wyKoeBIv"
      },
      "source": [
        "actor_2_name_value_counts = data.actor_2_name.value_counts()\n",
        "actor_2_name_value_counts  = pd.DataFrame(actor_2_name_value_counts).reset_index().rename(columns = {'index': 'actor_2_name', 'actor_2_name':'actor_2_name_value_counts'})"
      ],
      "execution_count": null,
      "outputs": []
    },
    {
      "cell_type": "code",
      "metadata": {
        "id": "eKakls-XeGaI"
      },
      "source": [
        "data = pd.merge(data, actor_2_name_value_counts,left_on = 'actor_2_name', right_on = 'actor_2_name', how = 'left')"
      ],
      "execution_count": null,
      "outputs": []
    },
    {
      "cell_type": "code",
      "metadata": {
        "id": "oBozTHdPeMm8"
      },
      "source": [
        "data= data.drop(columns = 'actor_2_name')"
      ],
      "execution_count": null,
      "outputs": []
    },
    {
      "cell_type": "code",
      "metadata": {
        "colab": {
          "base_uri": "https://localhost:8080/"
        },
        "id": "3ZbY_jUheRnT",
        "outputId": "7fc35ddb-df4b-4035-8189-f0da5b13d990"
      },
      "source": [
        "data.genres.unique(), data.genres.nunique()"
      ],
      "execution_count": null,
      "outputs": [
        {
          "output_type": "execute_result",
          "data": {
            "text/plain": [
              "(array(['Action|Adventure|Fantasy|Sci-Fi', 'Action|Adventure|Fantasy',\n",
              "        'Action|Adventure|Thriller', 'Action|Thriller',\n",
              "        'Action|Adventure|Sci-Fi', 'Action|Adventure|Romance',\n",
              "        'Adventure|Animation|Comedy|Family|Fantasy|Musical|Romance',\n",
              "        'Adventure|Family|Fantasy|Mystery', 'Action|Adventure',\n",
              "        'Action|Adventure|Western', 'Action|Adventure|Family|Fantasy',\n",
              "        'Action|Adventure|Comedy|Family|Fantasy|Sci-Fi',\n",
              "        'Adventure|Fantasy', 'Action|Adventure|Drama|History',\n",
              "        'Adventure|Family|Fantasy', 'Action|Adventure|Drama|Romance',\n",
              "        'Drama|Romance', 'Action|Adventure|Sci-Fi|Thriller',\n",
              "        'Action|Adventure|Fantasy|Romance',\n",
              "        'Action|Adventure|Fantasy|Sci-Fi|Thriller',\n",
              "        'Adventure|Animation|Comedy|Family|Fantasy',\n",
              "        'Adventure|Animation|Comedy|Family|Sport', 'Action|Crime|Thriller',\n",
              "        'Action|Adventure|Horror|Sci-Fi|Thriller',\n",
              "        'Adventure|Animation|Family|Sci-Fi',\n",
              "        'Action|Comedy|Crime|Thriller', 'Animation|Drama|Family|Fantasy',\n",
              "        'Action|Crime|Drama|Thriller', 'Adventure|Animation|Comedy|Family',\n",
              "        'Action|Adventure|Animation|Comedy|Family|Sci-Fi',\n",
              "        'Adventure|Drama|Family|Mystery', 'Action|Comedy|Sci-Fi|Western',\n",
              "        'Action|Adventure|Fantasy|Horror|Thriller',\n",
              "        'Action|Adventure|Comedy|Sci-Fi', 'Comedy|Family|Fantasy',\n",
              "        'Adventure|Animation|Comedy|Drama|Family|Fantasy',\n",
              "        'Adventure|Drama|Family|Fantasy', 'Action|Adventure|Drama|Fantasy',\n",
              "        'Action|Adventure|Family|Fantasy|Romance',\n",
              "        'Action|Adventure|Drama|Sci-Fi',\n",
              "        'Action|Adventure|Family|Mystery|Sci-Fi',\n",
              "        'Action|Adventure|Animation|Comedy|Drama|Family|Sci-Fi',\n",
              "        'Adventure|Animation|Comedy|Family|Sci-Fi',\n",
              "        'Adventure|Animation|Family|Fantasy', 'Action|Sci-Fi',\n",
              "        'Adventure|Drama|Sci-Fi', 'Drama|Fantasy|Romance',\n",
              "        'Adventure|Sci-Fi', 'Action|Adventure|Drama|Thriller',\n",
              "        'Action|Drama|History|Romance|War',\n",
              "        'Action|Adventure|Biography|Drama|History|Romance|War',\n",
              "        'Action|Drama', 'Drama|Horror|Sci-Fi',\n",
              "        'Adventure|Comedy|Family|Fantasy',\n",
              "        'Animation|Comedy|Family|Fantasy',\n",
              "        'Action|Adventure|Animation|Comedy|Family',\n",
              "        'Adventure|Animation|Comedy|Family|Fantasy|Musical',\n",
              "        'Mystery|Thriller', 'Adventure|Animation|Comedy|Drama|Family',\n",
              "        'Action|Adventure|Animation|Comedy|Family|Fantasy|Sci-Fi',\n",
              "        'Comedy|Fantasy|Horror', 'Drama|Fantasy|Horror|Thriller',\n",
              "        'Action|Drama|Thriller', 'Adventure',\n",
              "        'Action|Comedy|Fantasy|Sci-Fi',\n",
              "        'Action|Adventure|Comedy|Family|Fantasy|Mystery|Sci-Fi',\n",
              "        'Action|Adventure|Animation|Fantasy', 'Comedy|Crime',\n",
              "        'Action|Drama|History|War', 'Action|Adventure|Drama',\n",
              "        'Action|Adventure|Animation|Comedy|Family|Fantasy',\n",
              "        'Action|Drama|Mystery|Sci-Fi', 'Action|Adventure|Comedy|Thriller',\n",
              "        'Action|Adventure|Animation|Fantasy|Romance|Sci-Fi',\n",
              "        'Action|Adventure|Drama|History|War',\n",
              "        'Adventure|Drama|Fantasy|Romance',\n",
              "        'Animation|Comedy|Family|Musical',\n",
              "        'Adventure|Drama|Thriller|Western',\n",
              "        'Adventure|Animation|Comedy|Family|Western',\n",
              "        'Action|Mystery|Thriller', 'Adventure|Sci-Fi|Thriller',\n",
              "        'Adventure|Animation|Comedy|Family|Fantasy|Sci-Fi',\n",
              "        'Action|Crime|Mystery|Thriller', 'Action|Adventure|Family|Mystery',\n",
              "        'Adventure|Drama|Romance|War',\n",
              "        'Adventure|Animation|Family|Thriller',\n",
              "        'Action|Animation|Comedy|Family|Sci-Fi', 'Action|Comedy|Fantasy',\n",
              "        'Adventure|Animation|Comedy|Family|Musical',\n",
              "        'Action|Adventure|Crime|Mystery|Thriller',\n",
              "        'Action|Adventure|History', 'Action', 'Adventure|Drama|Fantasy',\n",
              "        'Action|Fantasy|Thriller', 'Action|Adventure|Comedy|Crime',\n",
              "        'Adventure|Mystery|Sci-Fi', 'Action|Drama|Sci-Fi|Thriller',\n",
              "        'Action|Crime|Sci-Fi|Thriller', 'Action|Family|Sport',\n",
              "        'Comedy|Drama|Romance', 'Action|Comedy|Romance',\n",
              "        'Action|Adventure|Mystery|Sci-Fi', 'Action|Drama|War',\n",
              "        'Adventure|Drama|Sci-Fi|Thriller',\n",
              "        'Action|Adventure|Comedy|Family|Fantasy', 'Crime|Thriller',\n",
              "        'Action|Comedy|Crime|Romance|Thriller', 'Biography|Drama',\n",
              "        'Action|Comedy|Crime|Sci-Fi|Thriller', 'Action|Drama|Fantasy|War',\n",
              "        'Animation|Comedy|Family|Music|Western',\n",
              "        'Action|Adventure|Mystery|Sci-Fi|Thriller',\n",
              "        'Action|Drama|Sci-Fi|Sport', 'Action|Crime|Romance|Thriller',\n",
              "        'Action|Adventure|Comedy', 'Biography|Drama|Sport',\n",
              "        'Action|Mystery|Sci-Fi|Thriller',\n",
              "        'Animation|Family|Fantasy|Musical|Romance',\n",
              "        'Action|Adventure|Romance|Sci-Fi|Thriller', 'Comedy|Romance',\n",
              "        'Action|Drama|Romance', 'Biography|Crime|Drama|History|Romance',\n",
              "        'Biography|Crime|Drama', 'Action|Comedy|Thriller',\n",
              "        'Action|Comedy|Crime', 'Action|Drama|Mystery|Thriller',\n",
              "        'Drama|Western', 'Animation|Drama|Family|Musical|Romance',\n",
              "        'Action|Adventure|Comedy|Family|Mystery',\n",
              "        'Action|Romance|Thriller', 'Action|Fantasy|Horror|Mystery',\n",
              "        'Adventure|Drama|Thriller', 'Biography|Comedy|Crime|Drama',\n",
              "        'Action|Sci-Fi|War', 'Drama|Sci-Fi',\n",
              "        'Action|Adventure|Animation|Family|Fantasy',\n",
              "        'Action|Crime|Fantasy|Romance|Thriller', 'Adventure|Comedy|Sci-Fi',\n",
              "        'Action|Crime|Sport|Thriller',\n",
              "        'Action|Adventure|Biography|Drama|History|Thriller',\n",
              "        'Action|Comedy|Sci-Fi', 'Action|Drama|Thriller|War',\n",
              "        'Drama|Mystery|Thriller', 'Action|Adventure|Fantasy|Thriller',\n",
              "        'Crime|Drama', 'Drama|History|Romance|War',\n",
              "        'Animation|Comedy|Family|Sport', 'Comedy|Sci-Fi|Thriller',\n",
              "        'Drama|History|War', 'Comedy',\n",
              "        'Adventure|Animation|Comedy|Family|Romance',\n",
              "        'Drama|Family|Fantasy|Romance', 'Drama|Fantasy|Thriller',\n",
              "        'Drama|Mystery|Romance|Sci-Fi|Thriller',\n",
              "        'Drama|History|War|Western', 'Action|Adventure|Animation|Family',\n",
              "        'Adventure|Comedy|Family|Mystery|Sci-Fi',\n",
              "        'Drama|Fantasy|Horror|Mystery|Thriller',\n",
              "        'Animation|Comedy|Family|Sci-Fi',\n",
              "        'Adventure|Comedy|Drama|Fantasy|Romance',\n",
              "        'Action|Adventure|Comedy|Crime|Thriller', 'Crime|Drama|Thriller',\n",
              "        'Adventure|Animation|Family|Fantasy|Musical|War', 'Action|Comedy',\n",
              "        'Crime|Drama|Mystery|Thriller',\n",
              "        'Action|Adventure|Animation|Family|Fantasy|Sci-Fi',\n",
              "        'Adventure|Animation|Comedy|Family|Fantasy|Music',\n",
              "        'Drama|History|Thriller|War', 'Action|Animation|Comedy|Sci-Fi',\n",
              "        'Comedy|Family|Fantasy|Horror|Mystery',\n",
              "        'Drama|Mystery|Sci-Fi|Thriller', 'Action|Horror|Sci-Fi|Thriller',\n",
              "        'Crime|Mystery|Thriller',\n",
              "        'Action|Adventure|Comedy|Crime|Mystery|Thriller',\n",
              "        'Comedy|Drama|Sci-Fi', 'Action|Family|Fantasy|Musical',\n",
              "        'Drama|History|Sport', 'Adventure|Drama|Romance',\n",
              "        'Animation|Comedy|Family|Music|Romance',\n",
              "        'Animation|Comedy|Family|Fantasy|Musical|Romance',\n",
              "        'Adventure|Comedy|Family', 'Action|Crime|Drama|Mystery|Thriller',\n",
              "        'Action|Adventure|Comedy|Fantasy',\n",
              "        'Adventure|Comedy|Drama|Family|Fantasy',\n",
              "        'Action|Comedy|Fantasy|Romance', 'Comedy|Romance|Sci-Fi',\n",
              "        'Adventure|Comedy|Mystery', 'Comedy|Drama|Fantasy|Romance',\n",
              "        'Action|Comedy|Family|Fantasy',\n",
              "        'Action|Adventure|Fantasy|Horror|Sci-Fi',\n",
              "        'Crime|Drama|History|Mystery|Thriller', 'Comedy|Drama',\n",
              "        'Adventure|Animation|Comedy|Drama|Family|Fantasy|Sci-Fi',\n",
              "        'Action|Drama|Romance|Sci-Fi|Thriller', 'Comedy|Crime|Sport',\n",
              "        'Comedy|Family|Fantasy|Romance',\n",
              "        'Adventure|Drama|History|Romance|War', 'Comedy|Family|Sci-Fi',\n",
              "        'Fantasy|Horror|Mystery|Thriller',\n",
              "        'Adventure|Animation|Comedy|Family|Fantasy|Sci-Fi|Sport',\n",
              "        'Adventure|Comedy|Crime|Family|Mystery', 'Drama|Sci-Fi|Thriller',\n",
              "        'Action|Crime|Mystery|Romance|Thriller',\n",
              "        'Action|Adventure|Comedy|Romance',\n",
              "        'Adventure|Animation|Family|Western', 'Comedy|Family|Romance',\n",
              "        'Action|Adventure|Family|Sci-Fi|Thriller',\n",
              "        'Animation|Family|Fantasy|Music',\n",
              "        'Action|Adventure|Family|Fantasy|Thriller', 'Comedy|Fantasy',\n",
              "        'Action|Adventure|Comedy|Fantasy|Thriller',\n",
              "        'Action|Sci-Fi|Thriller', 'Drama|History|Thriller',\n",
              "        'Adventure|Animation|Family', 'Drama|Musical|Romance',\n",
              "        'Documentary|Drama', 'Action|Adventure|Drama|History|Romance',\n",
              "        'Adventure|Animation|Drama|Family|Musical',\n",
              "        'Animation|Comedy|Family|Fantasy|Sci-Fi',\n",
              "        'Adventure|Animation|Drama|Family|Fantasy', 'Sci-Fi|Thriller',\n",
              "        'Animation|Comedy|Family', 'Action|Crime|Fantasy|Thriller',\n",
              "        'Comedy|Drama|Family|Music|Musical|Romance',\n",
              "        'Horror|Mystery|Thriller', 'Action|Adventure|Comedy|Family|Sci-Fi',\n",
              "        'Comedy|Family', 'Biography|Comedy|Drama|History',\n",
              "        'Drama|Music|Musical', 'Comedy|Crime|Music',\n",
              "        'Action|Comedy|Romance|Thriller',\n",
              "        'Animation|Comedy|Family|Fantasy|Mystery',\n",
              "        'Comedy|Crime|Drama|Romance', 'Action|Adventure|Romance|Thriller',\n",
              "        'Drama|History|Romance', 'Action|Drama|Fantasy|Romance',\n",
              "        'Action|Adventure|Animation|Family|Sci-Fi', 'Action|Drama|Sci-Fi',\n",
              "        'Animation|Comedy|Fantasy', 'Action|Fantasy',\n",
              "        'Action|Animation|Comedy|Family',\n",
              "        'Action|Adventure|Comedy|Romance|Thriller', 'Action|Comedy|Sport',\n",
              "        'Biography|Drama|History|War', 'Adventure|Animation|Comedy',\n",
              "        'Action|Drama|Sport', 'Adventure|Drama|Family',\n",
              "        'Drama|Mystery|Romance|Thriller',\n",
              "        'Adventure|Animation|Comedy|Family|Fantasy|Romance',\n",
              "        'Adventure|Drama|War', 'Action|Adventure|Crime|Thriller',\n",
              "        'Fantasy|Mystery|Romance|Sci-Fi|Thriller',\n",
              "        'Drama|Fantasy|Mystery|Thriller',\n",
              "        'Animation|Comedy|Family|Fantasy|Music',\n",
              "        'Drama|Horror|Romance|Thriller', 'Drama|War', 'Drama',\n",
              "        'Action|Drama|Fantasy|Horror|War',\n",
              "        'Adventure|Family|Fantasy|Romance',\n",
              "        'Adventure|Biography|Drama|History|War',\n",
              "        'Action|Adventure|Horror|Sci-Fi', 'Action|Fantasy|Horror',\n",
              "        'Comedy|Drama|Musical|Romance', 'Action|Sci-Fi|Sport',\n",
              "        'Action|Adventure|Animation|Comedy|Crime|Family|Fantasy',\n",
              "        'Adventure|Animation|Family|Fantasy|Musical',\n",
              "        'Action|Crime|Mystery|Sci-Fi|Thriller',\n",
              "        'Action|Comedy|Crime|Drama|Thriller',\n",
              "        'Adventure|Drama|History|Romance', 'Biography|Drama|Thriller',\n",
              "        'Action|Adventure|Fantasy|War', 'Comedy|Fantasy|Romance',\n",
              "        'Drama|Horror|Sci-Fi|Thriller', 'Adventure|Drama|History',\n",
              "        'Action|Adventure|Comedy|Romance|Thriller|Western',\n",
              "        'Biography|Drama|Sport|War', 'Comedy|Drama|Family|Musical',\n",
              "        'Action|Adventure|Fantasy|Horror|Sci-Fi|Thriller', 'Drama|Sport',\n",
              "        'Action|Fantasy|Sci-Fi|Thriller', 'Drama|Mystery|Romance',\n",
              "        'Adventure|Biography|Drama|History|Sport|Thriller',\n",
              "        'Crime|Drama|Fantasy', 'Adventure|Biography|Crime|Drama|Western',\n",
              "        'Action|War', 'Comedy|Romance|Sport',\n",
              "        'Crime|Drama|Mystery|Thriller|Western', 'Comedy|Sport',\n",
              "        'Comedy|Drama|Family', 'Crime|Drama|Fantasy|Mystery',\n",
              "        'Adventure|Animation|Biography|Drama|Family|Fantasy|Musical',\n",
              "        'Drama|Romance|Western', 'Documentary|Music', 'Drama|Thriller',\n",
              "        'Animation|Family|Fantasy', 'Action|Fantasy|Horror|Sci-Fi',\n",
              "        'Biography|Comedy|Drama', 'Action|Horror|Sci-Fi',\n",
              "        'Adventure|Comedy', 'Biography|Drama|History|Sport',\n",
              "        'Comedy|Crime|Romance|Thriller', 'Comedy|Crime|Romance',\n",
              "        'Horror|Mystery|Sci-Fi|Thriller', 'Biography|Drama|Music',\n",
              "        'Drama|Fantasy|Sport', 'Adventure|Comedy|Drama|Music',\n",
              "        'Action|Fantasy|Horror|Sci-Fi|Thriller',\n",
              "        'Adventure|Animation|Comedy|Drama|Family|Fantasy|Romance',\n",
              "        'Horror|Sci-Fi|Thriller', 'Drama|Fantasy|Mystery|Romance|Thriller',\n",
              "        'Action|Adventure|Drama|History|Romance|War',\n",
              "        'Drama|Fantasy|Mystery|Romance', 'Fantasy|Horror|Mystery|Romance',\n",
              "        'Adventure|Comedy|Family|Romance|Sci-Fi', 'Drama|Horror|Thriller',\n",
              "        'Action|Comedy|Mystery|Romance',\n",
              "        'Action|Adventure|Comedy|Romance|Sci-Fi',\n",
              "        'Action|Biography|Drama|History|Thriller|War',\n",
              "        'Adventure|Comedy|Family|Fantasy|Horror',\n",
              "        'Comedy|Family|Romance|Sci-Fi', 'Action|Adventure|Thriller|War',\n",
              "        'Comedy|Drama|Romance|Sport', 'Action|Comedy|Crime|Drama',\n",
              "        'Drama|Music|Romance|War', 'Action|Comedy|Drama|Family|Thriller',\n",
              "        'Action|Crime',\n",
              "        'Adventure|Animation|Drama|Family|History|Musical|Romance',\n",
              "        'Action|Adventure|Drama|Romance|Sci-Fi',\n",
              "        'Action|Adventure|Comedy|Family|Romance',\n",
              "        'Action|Adventure|Comedy|Western',\n",
              "        'Biography|Drama|History|Musical',\n",
              "        'Adventure|Drama|Horror|Thriller', 'Action|Drama|Sport|Thriller',\n",
              "        'Drama|Musical|Romance|Thriller', 'Comedy|Drama|Family|Fantasy',\n",
              "        'Adventure|Comedy|Crime|Family|Musical',\n",
              "        'Drama|Music|Musical|Romance', 'Drama|Mystery|Romance|War',\n",
              "        'Action|Adventure|Romance|Sci-Fi',\n",
              "        'Adventure|Animation|Drama|Family|Fantasy|Musical|Mystery|Romance',\n",
              "        'Action|Horror|Thriller', 'Drama|History|Horror',\n",
              "        'Drama|Romance|Sport', 'Comedy|Family|Musical|Romance',\n",
              "        'Romance|Sci-Fi|Thriller', 'Biography|Comedy|Drama|Romance',\n",
              "        'Mystery|Sci-Fi|Thriller', 'Drama|Fantasy|Horror',\n",
              "        'Adventure|Comedy|Drama|Fantasy|Musical',\n",
              "        'Action|Adventure|Family|Fantasy|Sci-Fi|Thriller',\n",
              "        'Adventure|Comedy|Family|Fantasy|Romance|Sport',\n",
              "        'Adventure|Horror|Mystery', 'Crime|Drama|Romance|Thriller',\n",
              "        'Comedy|Crime|Drama|Thriller', 'Drama|Fantasy',\n",
              "        'Adventure|Comedy|Drama', 'Action|Biography|Drama|History|War',\n",
              "        'Adventure|Comedy|Fantasy', 'Adventure|Comedy|Crime|Drama|Family',\n",
              "        'Action|Biography|Crime|Drama|Thriller', 'Comedy|Sci-Fi',\n",
              "        'Action|Adventure|Comedy|Crime|Music|Mystery',\n",
              "        'Action|Crime|Drama|Sci-Fi|Thriller',\n",
              "        'Action|Adventure|Comedy|Drama|War', 'Drama|Mystery|Sci-Fi',\n",
              "        'Crime|Drama|Music', 'Adventure|Crime|Drama|Western',\n",
              "        'Comedy|Drama|Thriller',\n",
              "        'Action|Comedy|Crime|Music|Romance|Thriller',\n",
              "        'Crime|Romance|Thriller', 'Action|Adventure|Drama|Sci-Fi|Thriller',\n",
              "        'Action|Drama|Fantasy|Thriller|Western',\n",
              "        'Action|Drama|Mystery|Thriller|War', 'Action|Comedy|Crime|Romance',\n",
              "        'Action|Adventure|Family|Fantasy|Sci-Fi',\n",
              "        'Adventure|Comedy|Family|Musical', 'Action|Horror',\n",
              "        'Action|Adventure|Horror|Thriller', 'Comedy|Drama|Music|Romance',\n",
              "        'Action|Crime|Drama|Romance|Thriller',\n",
              "        'Comedy|Family|Romance|Sport', 'Drama|Family|Fantasy',\n",
              "        'Drama|Fantasy|Musical|Romance',\n",
              "        'Adventure|Comedy|Family|Fantasy|Sci-Fi', 'Comedy|Musical',\n",
              "        'Biography|Drama|History', 'Action|Crime|Drama|Thriller|War',\n",
              "        'Comedy|Crime|Thriller', 'Biography|Drama|History|Thriller',\n",
              "        'Action|Adventure|Crime|Drama|Mystery|Thriller',\n",
              "        'Animation|Family|Fantasy|Musical', 'Adventure|Drama|Western',\n",
              "        'Biography|Drama|History|Romance', 'Drama|Horror|Mystery|Thriller',\n",
              "        'Action|Fantasy|Western', 'Drama|Music',\n",
              "        'Action|Drama|Family|Sport', 'Action|Biography|Drama|Thriller|War',\n",
              "        'Comedy|Drama|Sport', 'Horror|Mystery',\n",
              "        'Adventure|Comedy|Sci-Fi|Western', 'Fantasy|Horror|Romance',\n",
              "        'Biography|Drama|Romance', 'Action|Adventure|Drama|Romance|War',\n",
              "        'Adventure|Comedy|Crime|Romance',\n",
              "        'Comedy|Drama|Family|Fantasy|Romance', 'Horror',\n",
              "        'Action|Adventure|Drama|Romance|Thriller',\n",
              "        'Biography|Drama|Music|Musical', 'Drama|History', 'Comedy|Western',\n",
              "        'Action|Adventure|Crime|Fantasy|Mystery|Thriller',\n",
              "        'Adventure|Drama|Mystery', 'Biography|Crime|Drama|Music',\n",
              "        'Crime|Drama|Horror|Thriller', 'Horror|Thriller',\n",
              "        'Adventure|Animation|Comedy|Drama|Family|Fantasy|Musical',\n",
              "        'Action|Adventure|Comedy|Music|Thriller',\n",
              "        'Adventure|Animation|Comedy|Crime|Family',\n",
              "        'Comedy|Romance|Sci-Fi|Thriller', 'Comedy|Crime|Family|Romance',\n",
              "        'Crime|Horror|Thriller', 'Action|Horror|Mystery|Sci-Fi|Thriller',\n",
              "        'Comedy|Fantasy|Sci-Fi',\n",
              "        'Adventure|Animation|Comedy|Fantasy|Romance',\n",
              "        'Action|Adventure|Family|Thriller',\n",
              "        'Adventure|Comedy|Drama|Romance|Thriller|War',\n",
              "        'Action|Drama|Fantasy', 'Action|Adventure|Drama|Fantasy|War',\n",
              "        'Drama|Fantasy|Romance|Sci-Fi',\n",
              "        'Animation|Comedy|Family|Horror|Sci-Fi',\n",
              "        'Biography|Drama|Romance|Sport', 'Action|Biography|Drama',\n",
              "        'Adventure|Drama', 'Horror|Mystery|Sci-Fi',\n",
              "        'Action|Adventure|Drama|Thriller|Western',\n",
              "        'Adventure|Family|Fantasy|Sci-Fi', 'Action|Biography|Drama|Sport',\n",
              "        'Drama|Family',\n",
              "        'Action|Adventure|Crime|Drama|Family|Fantasy|Romance|Thriller',\n",
              "        'Biography|Comedy|Romance', 'Action|Biography|Drama|History',\n",
              "        'Biography|Drama|War', 'Drama|Romance|War',\n",
              "        'Adventure|Comedy|Family|Sci-Fi',\n",
              "        'Biography|Drama|Family|History|Sport',\n",
              "        'Biography|Comedy|Drama|History|Music', 'Fantasy|Horror',\n",
              "        'Comedy|Drama|Romance|Sci-Fi',\n",
              "        'Adventure|Animation|Comedy|Family|War',\n",
              "        'Action|Comedy|Sci-Fi|Thriller', 'Comedy|Horror',\n",
              "        'Drama|Thriller|War', 'Comedy|Music', 'Action|Western',\n",
              "        'Action|Adventure|Family|Sci-Fi',\n",
              "        'Adventure|Biography|Drama|Thriller', 'Drama|Romance|War|Western',\n",
              "        'Action|Adventure|Comedy|Drama|Thriller', 'Drama|Music|Romance',\n",
              "        'Action|Adventure|Crime|Drama|Thriller',\n",
              "        'Crime|Horror|Mystery|Thriller', 'Adventure|Comedy|Family|Sport',\n",
              "        'Comedy|Drama|Fantasy', 'Comedy|Family|Sport',\n",
              "        'Action|Adventure|Drama|Family', 'Drama|Family|Sport',\n",
              "        'Action|Thriller|Western', 'Action|Drama|Fantasy|Horror|Thriller',\n",
              "        'Animation|Comedy|Family|Fantasy|Musical',\n",
              "        'Action|Crime|Drama|Mystery|Sci-Fi|Thriller',\n",
              "        'Adventure|Comedy|Crime|Drama', 'Drama|Mystery',\n",
              "        'Comedy|Fantasy|Horror|Thriller',\n",
              "        'Crime|Drama|Mystery|Sci-Fi|Thriller', 'Comedy|Crime|Musical',\n",
              "        'Comedy|Drama|Family|Music|Romance', 'Comedy|Horror|Romance',\n",
              "        'Comedy|Family|Fantasy|Sport',\n",
              "        'Animation|Comedy|Family|Mystery|Sci-Fi',\n",
              "        'Animation|Drama|Family|Fantasy|Musical|Romance',\n",
              "        'Comedy|Horror|Musical|Sci-Fi', 'Crime|Drama|Sport',\n",
              "        'Action|Adventure|Animation|Drama|Mystery|Sci-Fi|Thriller',\n",
              "        'Action|Adventure|Crime|Drama|Romance', 'Action|Comedy|Horror',\n",
              "        'Adventure|Horror|Thriller', 'Adventure|Fantasy|Mystery',\n",
              "        'Biography|Crime|Drama|History|Western',\n",
              "        'Action|Biography|Crime|Drama', 'Biography|Drama|Music|Romance',\n",
              "        'Biography|Crime|Drama|History|Music',\n",
              "        'Adventure|Animation|Comedy|Drama|Family|Musical',\n",
              "        'Comedy|Drama|Music', 'Drama|Romance|Thriller',\n",
              "        'Action|Fantasy|Horror|Thriller', 'Adventure|Biography',\n",
              "        'Action|Comedy|Family', 'Action|Horror|Romance',\n",
              "        'Action|Comedy|Crime|Music',\n",
              "        'Action|Drama|Fantasy|Mystery|Sci-Fi|Thriller',\n",
              "        'Action|Crime|Drama|History|Western', 'Comedy|Crime|Drama',\n",
              "        'Comedy|Family|Fantasy|Music|Romance',\n",
              "        'Adventure|Comedy|Crime|Music',\n",
              "        'Action|Adventure|Comedy|Sci-Fi|Thriller',\n",
              "        'Action|Crime|Drama|Western',\n",
              "        'Action|Adventure|Comedy|Family|Romance|Sci-Fi',\n",
              "        'Action|Fantasy|Romance|Sci-Fi', 'Comedy|Crime|Mystery|Romance',\n",
              "        'Adventure|Family', 'Comedy|Drama|Family|Romance',\n",
              "        'Action|Drama|Music|Romance',\n",
              "        'Adventure|Comedy|Family|Fantasy|Horror|Mystery',\n",
              "        'Action|Biography|Drama|History|Romance|Western',\n",
              "        'Biography|Drama|Family',\n",
              "        'Action|Adventure|Comedy|Crime|Family|Romance|Thriller',\n",
              "        'Drama|Romance|Sci-Fi', 'Comedy|Fantasy|Horror|Romance',\n",
              "        'Comedy|Family|Music', 'Action|Comedy|Music',\n",
              "        'Adventure|Comedy|Crime', 'Biography|Comedy|Drama|Sport',\n",
              "        'Fantasy|Horror|Thriller', 'Comedy|Drama|Romance|Thriller',\n",
              "        'Adventure|Comedy|Family|Romance',\n",
              "        'Adventure|Family|Fantasy|Musical',\n",
              "        'Biography|Crime|Drama|History|Thriller', 'Crime|Drama|History',\n",
              "        'Biography|Drama|Thriller|War',\n",
              "        'Drama|Music|Mystery|Romance|Thriller',\n",
              "        'Action|Adventure|Fantasy|Horror', 'Crime|Drama|Mystery|Romance',\n",
              "        'Action|Drama|Western', 'Comedy|War',\n",
              "        'Adventure|Comedy|Family|Fantasy|Music|Sci-Fi',\n",
              "        'Adventure|Family|Fantasy|Music|Musical',\n",
              "        'Action|Adventure|Animation|Comedy|Fantasy',\n",
              "        'Adventure|Comedy|Horror|Sci-Fi', 'Horror|Sci-Fi',\n",
              "        'Biography|Comedy|Drama|Family|Sport',\n",
              "        'Action|Crime|Drama|Thriller|Western',\n",
              "        'Drama|Fantasy|Romance|Thriller', 'Comedy|Mystery',\n",
              "        'Comedy|Drama|Musical|Romance|War',\n",
              "        'Drama|History|Music|Romance|War', 'Comedy|History',\n",
              "        'Animation|Comedy|Fantasy|Musical', 'Action|Comedy|Documentary',\n",
              "        'Adventure|Comedy|Drama|Family|Romance',\n",
              "        'Adventure|Comedy|Drama|Family|Mystery',\n",
              "        'Drama|Family|Music|Romance', 'Fantasy|Romance',\n",
              "        'Adventure|Animation|Family|Musical',\n",
              "        'Animation|Comedy|Drama|Family|Musical',\n",
              "        'Biography|Crime|Drama|History',\n",
              "        'Adventure|Comedy|Fantasy|Music|Sci-Fi',\n",
              "        'Action|Adventure|Drama|Mystery',\n",
              "        'Comedy|Crime|Family|Mystery|Romance|Thriller',\n",
              "        'Action|Adventure|Drama|Romance|Western',\n",
              "        'Adventure|Crime|Mystery|Sci-Fi|Thriller',\n",
              "        'Adventure|Biography|Drama',\n",
              "        'Adventure|Drama|Horror|Mystery|Thriller', 'Crime|Fantasy|Horror',\n",
              "        'Animation|Family|Fantasy|Mystery', 'Action|Comedy|Crime|Fantasy',\n",
              "        'Comedy|Family|Music|Musical',\n",
              "        'Drama|Mystery|Romance|Thriller|War', 'Action|Crime|Drama|Sport',\n",
              "        'Drama|Fantasy|Horror|Mystery', 'Comedy|Drama|Music|War',\n",
              "        'Comedy|Musical|Romance', 'Comedy|Crime|Drama|Mystery|Romance',\n",
              "        'Biography|Comedy|Drama|History|Music|Musical',\n",
              "        'Animation|Drama|Mystery|Sci-Fi|Thriller',\n",
              "        'Adventure|Comedy|Drama|Romance', 'Adventure|Animation|Fantasy',\n",
              "        'Comedy|Drama|Mystery|Romance|Thriller|War',\n",
              "        'Biography|Comedy|Musical', 'Crime|Drama|Western',\n",
              "        'Action|Adventure|Animation|Family|Sci-Fi|Thriller',\n",
              "        'Comedy|Family|Fantasy|Sci-Fi',\n",
              "        'Action|Comedy|Crime|Fantasy|Horror|Mystery|Sci-Fi|Thriller',\n",
              "        'Crime|Drama|Mystery', 'Adventure|Comedy|Romance',\n",
              "        'Family|Fantasy|Music', 'Crime|Drama|Music|Thriller',\n",
              "        'Action|Drama|Fantasy|Mystery|Thriller',\n",
              "        'Biography|Drama|History|Music', 'Biography|Drama|Family|Sport',\n",
              "        'Adventure|Fantasy|Mystery|Thriller',\n",
              "        'Biography|Drama|Romance|War',\n",
              "        'Action|Horror|Romance|Sci-Fi|Thriller',\n",
              "        'Action|Drama|History|Romance|War|Western',\n",
              "        'Action|Animation|Sci-Fi|Thriller',\n",
              "        'Action|Animation|Comedy|Crime|Family',\n",
              "        'Drama|Family|Music|Musical', 'Drama|Family|Musical|Romance',\n",
              "        'Comedy|Drama|Family|Fantasy|Sci-Fi', 'Comedy|Music|Romance',\n",
              "        'Adventure|Comedy|Family|Fantasy|Musical',\n",
              "        'Adventure|Crime|Drama|Romance', 'Biography|Crime|Drama|Thriller',\n",
              "        'Comedy|Mystery|Sci-Fi|Thriller', 'Drama|Fantasy|War',\n",
              "        'Action|Comedy|Crime|Family', 'Action|Comedy|Mystery',\n",
              "        'Comedy|Crime|Mystery', 'Action|Crime|Sci-Fi',\n",
              "        'Comedy|Horror|Sci-Fi', 'Drama|Family|Romance',\n",
              "        'Adventure|Comedy|Family|Music|Romance', 'Comedy|Horror|Thriller',\n",
              "        'Comedy|Family|Music|Romance',\n",
              "        'Adventure|Fantasy|Horror|Mystery|Thriller',\n",
              "        'Crime|Drama|Musical|Romance', 'Family|Music|Romance',\n",
              "        'Biography|Drama|History|Thriller|War',\n",
              "        'Adventure|Crime|Drama|Mystery|Western',\n",
              "        'Comedy|Crime|Drama|Thriller|War', 'Fantasy|Horror|Mystery',\n",
              "        'Action|Comedy|Drama|War', 'Comedy|Drama|Fantasy|Music|Romance',\n",
              "        'Adventure|Mystery|Thriller', 'Comedy|Drama|War',\n",
              "        'Comedy|Mystery|Romance', 'Biography|Crime|Drama|War',\n",
              "        'Biography|Comedy|Drama|War', 'Comedy|Crime|Family|Sci-Fi',\n",
              "        'Adventure|Family|Sci-Fi', 'Adventure|Comedy|Romance|Sci-Fi',\n",
              "        'Action|Adventure|Comedy|Family',\n",
              "        'Biography|Comedy|Crime|Drama|Romance', 'Crime|Drama|Musical',\n",
              "        'Comedy|Drama|Family|Sport', 'Animation|Comedy|Crime|Drama|Family',\n",
              "        'Action|Adventure|Comedy|Fantasy|Mystery',\n",
              "        'Action|Adventure|Drama|Thriller|War', 'Crime|Drama|Music|Romance',\n",
              "        'Adventure|Animation|Comedy|Crime',\n",
              "        'Adventure|Comedy|Fantasy|Sci-Fi',\n",
              "        'Comedy|Drama|Family|Fantasy|Musical', 'Comedy|Crime|Family',\n",
              "        'Adventure|Drama|Thriller|War', 'Comedy|Drama|Horror|Sci-Fi',\n",
              "        'Crime|Drama|Romance', 'Drama|Fantasy|Music|Romance',\n",
              "        'Family|Sci-Fi', 'Drama|History|Romance|Western',\n",
              "        'Action|Comedy|War', 'Adventure|Comedy|Music|Sci-Fi',\n",
              "        'Drama|Family|Musical', 'Action|Comedy|Drama|Music',\n",
              "        'Adventure|Comedy|Drama|Fantasy', 'Fantasy|Horror|Sci-Fi',\n",
              "        'Comedy|Romance|Thriller', 'Biography|Crime|Drama|Romance',\n",
              "        'Adventure|Comedy|Drama|Romance|Sci-Fi',\n",
              "        'Drama|Music|Mystery|Romance', 'Action|Crime|Drama',\n",
              "        'Adventure|Biography|Drama|War', 'Action|Comedy|Drama',\n",
              "        'Action|Drama|Romance|Thriller',\n",
              "        'Action|Biography|Drama|History|Romance|War',\n",
              "        'Horror|Musical|Sci-Fi', 'Biography|Drama|Family|Musical|Romance',\n",
              "        'Comedy|Crime|Drama|Romance|Thriller', 'Drama|Horror',\n",
              "        'Animation|Comedy|Drama|Romance', 'Comedy|Crime|Musical|Romance',\n",
              "        'Comedy|Crime|Musical|Mystery', 'Action|Animation|Sci-Fi',\n",
              "        'Drama|Romance|Sci-Fi|Thriller', 'Animation|Biography|Drama|War',\n",
              "        'Crime|Horror', 'Adventure|Biography|Drama|History',\n",
              "        'Action|Crime|Horror|Sci-Fi|Thriller', 'Western',\n",
              "        'Drama|Mystery|War', 'Comedy|Drama|Musical',\n",
              "        'Mystery|Romance|Thriller', 'Adventure|Comedy|Drama|Family',\n",
              "        'Musical|Romance', 'Documentary|Drama|War',\n",
              "        'Biography|Crime|Drama|Western', 'Comedy|Family|Fantasy|Musical',\n",
              "        'Crime|Drama|Musical|Romance|Thriller',\n",
              "        'Fantasy|Horror|Romance|Thriller', 'Comedy|Drama|Music|Musical',\n",
              "        'Action|Sport', 'Action|Comedy|Drama|Thriller',\n",
              "        'Drama|Horror|Mystery|Sci-Fi|Thriller', 'Comedy|Documentary',\n",
              "        'Adventure|Horror', 'Documentary',\n",
              "        'Biography|Crime|Drama|Romance|Thriller',\n",
              "        'Comedy|Crime|Drama|Mystery|Thriller',\n",
              "        'Biography|Crime|Drama|Mystery|Thriller',\n",
              "        'Crime|Horror|Music|Thriller', 'Crime|Thriller|War',\n",
              "        'Comedy|Drama|Romance|War', 'Drama|Musical', 'Fantasy|Thriller',\n",
              "        'Crime|Drama|Fantasy|Romance', 'Comedy|Horror|Mystery',\n",
              "        'Adventure|War|Western',\n",
              "        'Biography|Comedy|Musical|Romance|Western',\n",
              "        'Adventure|Comedy|Musical|Romance',\n",
              "        'Action|Adventure|Comedy|Musical', 'Comedy|Drama|Fantasy|Horror',\n",
              "        'Crime|Documentary|Drama', 'Biography|Comedy|Documentary',\n",
              "        'Comedy|Documentary|Music', 'Crime|Drama|History|Romance',\n",
              "        'Comedy|Drama|Horror', 'Drama|Family|Western',\n",
              "        'Comedy|Crime|Drama|Sci-Fi', 'Comedy|Family|Musical|Romance|Short',\n",
              "        'Comedy|Documentary|War', 'Action|Comedy|Horror|Sci-Fi',\n",
              "        'Animation|Comedy|Drama',\n",
              "        'Animation|Biography|Documentary|Drama|History|War',\n",
              "        'Documentary|War', 'Documentary|History',\n",
              "        'Biography|Documentary|History',\n",
              "        'Action|Adventure|Comedy|Drama|Music|Sci-Fi',\n",
              "        'Crime|Drama|Film-Noir|Mystery|Thriller',\n",
              "        'Comedy|Fantasy|Musical|Sci-Fi',\n",
              "        'Biography|Crime|Documentary|History|Thriller',\n",
              "        'Adventure|Comedy|Horror', 'Adventure|Comedy|Sport',\n",
              "        'Action|Drama|Horror|Thriller', 'Comedy|Horror|Musical',\n",
              "        'Biography|Crime|Documentary|History', 'Crime|Documentary|War',\n",
              "        'Documentary|Sport', 'Adventure|Biography|Documentary|Drama',\n",
              "        'Thriller', 'Comedy|Fantasy|Thriller', 'Drama|Fantasy|Sci-Fi',\n",
              "        'Action|Adventure|Drama|War',\n",
              "        'Action|Adventure|Animation|Comedy|Fantasy|Sci-Fi',\n",
              "        'Documentary|Drama|Sport', 'Documentary|History|Music',\n",
              "        'Adventure|Family|Romance',\n",
              "        'Adventure|Biography|Drama|Horror|Thriller',\n",
              "        'Biography|Documentary|Sport',\n",
              "        'Action|Biography|Documentary|Sport',\n",
              "        'Comedy|Fantasy|Horror|Musical', 'Biography|Documentary',\n",
              "        'Action|Fantasy|Horror|Mystery|Thriller',\n",
              "        'Animation|Comedy|Drama|Fantasy|Sci-Fi', 'Sci-Fi',\n",
              "        'Adventure|Horror|Sci-Fi', 'Crime|Documentary',\n",
              "        'Comedy|Crime|Drama|Horror|Thriller', 'Comedy|Documentary|Drama',\n",
              "        'Comedy|Crime|Horror'], dtype=object), 758)"
            ]
          },
          "metadata": {
            "tags": []
          },
          "execution_count": 140
        }
      ]
    },
    {
      "cell_type": "code",
      "metadata": {
        "id": "4VR-cqIAeX32"
      },
      "source": [
        "data['main_genre'] = data.genres.str.split('|').str[0]"
      ],
      "execution_count": null,
      "outputs": []
    },
    {
      "cell_type": "code",
      "metadata": {
        "id": "ee1lH8Y7elfU"
      },
      "source": [
        "from sklearn.preprocessing import LabelEncoder\n",
        "le = LabelEncoder()\n",
        "data['main_genre'] = le.fit_transform(data.main_genre)"
      ],
      "execution_count": null,
      "outputs": []
    },
    {
      "cell_type": "code",
      "metadata": {
        "id": "qN90NhNMeqzQ"
      },
      "source": [
        "genres_value_counts = data.genres.value_counts()"
      ],
      "execution_count": null,
      "outputs": []
    },
    {
      "cell_type": "code",
      "metadata": {
        "id": "zC38xjbueun3"
      },
      "source": [
        "genres_value_counts  = pd.DataFrame(genres_value_counts).reset_index().rename(columns = {'index' : 'genres', 'genres' : 'genres_value_counts'})"
      ],
      "execution_count": null,
      "outputs": []
    },
    {
      "cell_type": "code",
      "metadata": {
        "id": "y-g6C1dOeyzL"
      },
      "source": [
        "data = pd.merge(data, genres_value_counts,left_on = 'genres', right_on = 'genres', how = 'left')"
      ],
      "execution_count": null,
      "outputs": []
    },
    {
      "cell_type": "code",
      "metadata": {
        "id": "CkH7RQLGe3m2"
      },
      "source": [
        "data = data.drop(columns = 'genres')"
      ],
      "execution_count": null,
      "outputs": []
    },
    {
      "cell_type": "code",
      "metadata": {
        "colab": {
          "base_uri": "https://localhost:8080/"
        },
        "id": "YeeCE6ZMe87L",
        "outputId": "315c8978-38c1-4dbc-adb4-9dfe3968274d"
      },
      "source": [
        "data.actor_1_name.unique(), data.actor_1_name.nunique()"
      ],
      "execution_count": null,
      "outputs": [
        {
          "output_type": "execute_result",
          "data": {
            "text/plain": [
              "(array(['CCH Pounder', 'Johnny Depp', 'Christoph Waltz', ...,\n",
              "        'Carlos Gallardo', 'Kerry Bishé', 'John August'], dtype=object), 1485)"
            ]
          },
          "metadata": {
            "tags": []
          },
          "execution_count": 147
        }
      ]
    },
    {
      "cell_type": "code",
      "metadata": {
        "id": "M1ZPjwcufFll"
      },
      "source": [
        "actor_1_name_value_counts = data.actor_1_name.value_counts()"
      ],
      "execution_count": null,
      "outputs": []
    },
    {
      "cell_type": "code",
      "metadata": {
        "id": "keEutcDtfIDh"
      },
      "source": [
        "actor_1_name_value_counts = pd.DataFrame(actor_1_name_value_counts).reset_index().rename(columns = {'index' : 'actor_1_name', 'actor_1_name' : 'actor_1_name_value_counts'})"
      ],
      "execution_count": null,
      "outputs": []
    },
    {
      "cell_type": "code",
      "metadata": {
        "id": "eznC_lQUffXc"
      },
      "source": [
        "data = pd.merge(data, actor_1_name_value_counts,left_on = 'actor_1_name', right_on = 'actor_1_name', how = 'left')"
      ],
      "execution_count": null,
      "outputs": []
    },
    {
      "cell_type": "code",
      "metadata": {
        "id": "pI1vtpixfkN5"
      },
      "source": [
        "data = data.drop(columns = 'actor_1_name')"
      ],
      "execution_count": null,
      "outputs": []
    },
    {
      "cell_type": "code",
      "metadata": {
        "id": "3yfszhZffpBu"
      },
      "source": [
        "data = data.drop(columns = 'movie_title')"
      ],
      "execution_count": null,
      "outputs": []
    },
    {
      "cell_type": "code",
      "metadata": {
        "id": "K-hDkOG4fu3X"
      },
      "source": [
        "actor_3_name_value_counts = data.actor_3_name.value_counts()"
      ],
      "execution_count": null,
      "outputs": []
    },
    {
      "cell_type": "code",
      "metadata": {
        "id": "SqduFrmwfzHx"
      },
      "source": [
        "actor_3_name_value_counts = pd.DataFrame(actor_3_name_value_counts).reset_index().rename(columns = {'index' : 'actor_3_name', 'actor_3_name' : 'actor_3_name_value_counts'})"
      ],
      "execution_count": null,
      "outputs": []
    },
    {
      "cell_type": "code",
      "metadata": {
        "id": "jBFgTL3Cf3Ok"
      },
      "source": [
        "data= pd.merge(data, actor_3_name_value_counts,left_on = 'actor_3_name', right_on = 'actor_3_name', how = 'left')"
      ],
      "execution_count": null,
      "outputs": []
    },
    {
      "cell_type": "code",
      "metadata": {
        "id": "bGlfHAgLf8Yy"
      },
      "source": [
        "data = data.drop(columns = 'actor_3_name')"
      ],
      "execution_count": null,
      "outputs": []
    },
    {
      "cell_type": "code",
      "metadata": {
        "id": "vsIUb4ctgCCy"
      },
      "source": [
        "data['main_plot_keyword'] = data.plot_keywords.str.split('|').str[0]"
      ],
      "execution_count": null,
      "outputs": []
    },
    {
      "cell_type": "code",
      "metadata": {
        "id": "yN8WpM7PgG7Q"
      },
      "source": [
        "data = data.drop(columns = 'plot_keywords')"
      ],
      "execution_count": null,
      "outputs": []
    },
    {
      "cell_type": "code",
      "metadata": {
        "id": "ay0r2lwpgLwK"
      },
      "source": [
        "main_plot_keyword_value_counts = data.main_plot_keyword.value_counts()\n",
        "main_plot_keyword_value_counts = pd.DataFrame(main_plot_keyword_value_counts).reset_index().rename(columns = {'index' : 'main_plot_keyword', 'main_plot_keyword' : 'main_plot_keyword_value_counts'})"
      ],
      "execution_count": null,
      "outputs": []
    },
    {
      "cell_type": "code",
      "metadata": {
        "id": "2mDnc-uFgQ0d"
      },
      "source": [
        "data= pd.merge(data, main_plot_keyword_value_counts, left_on = 'main_plot_keyword', right_on = 'main_plot_keyword', how = 'left')\n",
        "data= data.drop(columns = 'main_plot_keyword')"
      ],
      "execution_count": null,
      "outputs": []
    },
    {
      "cell_type": "code",
      "metadata": {
        "id": "Cbx_aee9gY4u"
      },
      "source": [
        "data= data.drop(columns = 'movie_imdb_link')"
      ],
      "execution_count": null,
      "outputs": []
    },
    {
      "cell_type": "code",
      "metadata": {
        "id": "cXVrNAUBgeVh"
      },
      "source": [
        "from sklearn.preprocessing import LabelEncoder\n",
        "le1 = LabelEncoder()\n",
        "data['language'] = le1.fit_transform(data.language)"
      ],
      "execution_count": null,
      "outputs": []
    },
    {
      "cell_type": "code",
      "metadata": {
        "id": "emViZNKKglXo"
      },
      "source": [
        "from sklearn.preprocessing import LabelEncoder\n",
        "le2 = LabelEncoder()\n",
        "data['country'] = le2.fit_transform(data.country)"
      ],
      "execution_count": null,
      "outputs": []
    },
    {
      "cell_type": "code",
      "metadata": {
        "id": "iTjntXbKgtVf"
      },
      "source": [
        "from sklearn.preprocessing import LabelEncoder\n",
        "le3 = LabelEncoder()\n",
        "data['content_rating'] = le3.fit_transform(data.content_rating)"
      ],
      "execution_count": null,
      "outputs": []
    },
    {
      "cell_type": "code",
      "metadata": {
        "colab": {
          "base_uri": "https://localhost:8080/",
          "height": 224
        },
        "id": "kt2L5vEYg0S2",
        "outputId": "82e2859c-c175-4859-ca0f-d8d3454adb11"
      },
      "source": [
        "data.head()"
      ],
      "execution_count": null,
      "outputs": [
        {
          "output_type": "execute_result",
          "data": {
            "text/html": [
              "<div>\n",
              "<style scoped>\n",
              "    .dataframe tbody tr th:only-of-type {\n",
              "        vertical-align: middle;\n",
              "    }\n",
              "\n",
              "    .dataframe tbody tr th {\n",
              "        vertical-align: top;\n",
              "    }\n",
              "\n",
              "    .dataframe thead th {\n",
              "        text-align: right;\n",
              "    }\n",
              "</style>\n",
              "<table border=\"1\" class=\"dataframe\">\n",
              "  <thead>\n",
              "    <tr style=\"text-align: right;\">\n",
              "      <th></th>\n",
              "      <th>color</th>\n",
              "      <th>num_critic_for_reviews</th>\n",
              "      <th>duration</th>\n",
              "      <th>director_facebook_likes</th>\n",
              "      <th>actor_3_facebook_likes</th>\n",
              "      <th>actor_1_facebook_likes</th>\n",
              "      <th>gross</th>\n",
              "      <th>num_voted_users</th>\n",
              "      <th>cast_total_facebook_likes</th>\n",
              "      <th>facenumber_in_poster</th>\n",
              "      <th>num_user_for_reviews</th>\n",
              "      <th>language</th>\n",
              "      <th>country</th>\n",
              "      <th>content_rating</th>\n",
              "      <th>budget</th>\n",
              "      <th>title_year</th>\n",
              "      <th>actor_2_facebook_likes</th>\n",
              "      <th>imdb_score</th>\n",
              "      <th>aspect_ratio</th>\n",
              "      <th>movie_facebook_likes</th>\n",
              "      <th>director_name_value_counts</th>\n",
              "      <th>actor_2_name_value_counts</th>\n",
              "      <th>main_genre</th>\n",
              "      <th>genres_value_counts</th>\n",
              "      <th>actor_1_name_value_counts</th>\n",
              "      <th>actor_3_name_value_counts</th>\n",
              "      <th>main_plot_keyword_value_counts</th>\n",
              "    </tr>\n",
              "  </thead>\n",
              "  <tbody>\n",
              "    <tr>\n",
              "      <th>0</th>\n",
              "      <td>1</td>\n",
              "      <td>723.0</td>\n",
              "      <td>178.0</td>\n",
              "      <td>0.0</td>\n",
              "      <td>855.0</td>\n",
              "      <td>1000.0</td>\n",
              "      <td>760505847.0</td>\n",
              "      <td>886204</td>\n",
              "      <td>4834</td>\n",
              "      <td>0.0</td>\n",
              "      <td>3054.0</td>\n",
              "      <td>10</td>\n",
              "      <td>45</td>\n",
              "      <td>7</td>\n",
              "      <td>237000000.0</td>\n",
              "      <td>2009.0</td>\n",
              "      <td>936.0</td>\n",
              "      <td>7.9</td>\n",
              "      <td>1.78</td>\n",
              "      <td>33000</td>\n",
              "      <td>7</td>\n",
              "      <td>3</td>\n",
              "      <td>0</td>\n",
              "      <td>12</td>\n",
              "      <td>4</td>\n",
              "      <td>3</td>\n",
              "      <td>2</td>\n",
              "    </tr>\n",
              "    <tr>\n",
              "      <th>1</th>\n",
              "      <td>1</td>\n",
              "      <td>302.0</td>\n",
              "      <td>169.0</td>\n",
              "      <td>563.0</td>\n",
              "      <td>1000.0</td>\n",
              "      <td>40000.0</td>\n",
              "      <td>309404152.0</td>\n",
              "      <td>471220</td>\n",
              "      <td>48350</td>\n",
              "      <td>0.0</td>\n",
              "      <td>1238.0</td>\n",
              "      <td>10</td>\n",
              "      <td>45</td>\n",
              "      <td>7</td>\n",
              "      <td>300000000.0</td>\n",
              "      <td>2007.0</td>\n",
              "      <td>5000.0</td>\n",
              "      <td>7.1</td>\n",
              "      <td>2.35</td>\n",
              "      <td>0</td>\n",
              "      <td>7</td>\n",
              "      <td>7</td>\n",
              "      <td>0</td>\n",
              "      <td>25</td>\n",
              "      <td>38</td>\n",
              "      <td>4</td>\n",
              "      <td>1</td>\n",
              "    </tr>\n",
              "    <tr>\n",
              "      <th>2</th>\n",
              "      <td>1</td>\n",
              "      <td>602.0</td>\n",
              "      <td>148.0</td>\n",
              "      <td>0.0</td>\n",
              "      <td>161.0</td>\n",
              "      <td>11000.0</td>\n",
              "      <td>200074175.0</td>\n",
              "      <td>275868</td>\n",
              "      <td>11700</td>\n",
              "      <td>1.0</td>\n",
              "      <td>994.0</td>\n",
              "      <td>10</td>\n",
              "      <td>44</td>\n",
              "      <td>7</td>\n",
              "      <td>245000000.0</td>\n",
              "      <td>2015.0</td>\n",
              "      <td>393.0</td>\n",
              "      <td>6.8</td>\n",
              "      <td>2.35</td>\n",
              "      <td>85000</td>\n",
              "      <td>8</td>\n",
              "      <td>2</td>\n",
              "      <td>0</td>\n",
              "      <td>45</td>\n",
              "      <td>4</td>\n",
              "      <td>1</td>\n",
              "      <td>7</td>\n",
              "    </tr>\n",
              "    <tr>\n",
              "      <th>3</th>\n",
              "      <td>1</td>\n",
              "      <td>813.0</td>\n",
              "      <td>164.0</td>\n",
              "      <td>22000.0</td>\n",
              "      <td>23000.0</td>\n",
              "      <td>27000.0</td>\n",
              "      <td>448130642.0</td>\n",
              "      <td>1144337</td>\n",
              "      <td>106759</td>\n",
              "      <td>0.0</td>\n",
              "      <td>2701.0</td>\n",
              "      <td>10</td>\n",
              "      <td>45</td>\n",
              "      <td>7</td>\n",
              "      <td>250000000.0</td>\n",
              "      <td>2012.0</td>\n",
              "      <td>23000.0</td>\n",
              "      <td>8.5</td>\n",
              "      <td>2.35</td>\n",
              "      <td>164000</td>\n",
              "      <td>8</td>\n",
              "      <td>5</td>\n",
              "      <td>0</td>\n",
              "      <td>22</td>\n",
              "      <td>9</td>\n",
              "      <td>2</td>\n",
              "      <td>2</td>\n",
              "    </tr>\n",
              "    <tr>\n",
              "      <th>4</th>\n",
              "      <td>1</td>\n",
              "      <td>462.0</td>\n",
              "      <td>132.0</td>\n",
              "      <td>475.0</td>\n",
              "      <td>530.0</td>\n",
              "      <td>640.0</td>\n",
              "      <td>73058679.0</td>\n",
              "      <td>212204</td>\n",
              "      <td>1873</td>\n",
              "      <td>1.0</td>\n",
              "      <td>738.0</td>\n",
              "      <td>10</td>\n",
              "      <td>45</td>\n",
              "      <td>7</td>\n",
              "      <td>263700000.0</td>\n",
              "      <td>2012.0</td>\n",
              "      <td>632.0</td>\n",
              "      <td>6.6</td>\n",
              "      <td>2.35</td>\n",
              "      <td>24000</td>\n",
              "      <td>3</td>\n",
              "      <td>3</td>\n",
              "      <td>0</td>\n",
              "      <td>46</td>\n",
              "      <td>2</td>\n",
              "      <td>1</td>\n",
              "      <td>69</td>\n",
              "    </tr>\n",
              "  </tbody>\n",
              "</table>\n",
              "</div>"
            ],
            "text/plain": [
              "   color  ...  main_plot_keyword_value_counts\n",
              "0      1  ...                               2\n",
              "1      1  ...                               1\n",
              "2      1  ...                               7\n",
              "3      1  ...                               2\n",
              "4      1  ...                              69\n",
              "\n",
              "[5 rows x 27 columns]"
            ]
          },
          "metadata": {
            "tags": []
          },
          "execution_count": 165
        }
      ]
    },
    {
      "cell_type": "code",
      "metadata": {
        "id": "YvcPIMjFhCnC"
      },
      "source": [
        "data_regression = data.copy() \n",
        "data_classification = data.copy() "
      ],
      "execution_count": null,
      "outputs": []
    },
    {
      "cell_type": "code",
      "metadata": {
        "id": "cPpDx-zihRsb"
      },
      "source": [
        "from sklearn.model_selection import train_test_split\n",
        "y = data_regression.pop('imdb_score')\n",
        "X = data_regression\n",
        "X_train, X_test, y_train, y_test = train_test_split(X, y, train_size = 0.8, test_size = 0.2, random_state = 42)"
      ],
      "execution_count": null,
      "outputs": []
    },
    {
      "cell_type": "code",
      "metadata": {
        "id": "b8Swp4KChap1"
      },
      "source": [
        "from sklearn.preprocessing import MinMaxScaler\n",
        "scaler = MinMaxScaler()\n",
        "X_train = pd.DataFrame(scaler.fit_transform(X_train.values), columns=X_train.columns, index=X_train.index)"
      ],
      "execution_count": null,
      "outputs": []
    },
    {
      "cell_type": "code",
      "metadata": {
        "id": "JK4b-82ghf60"
      },
      "source": [
        "X_test = pd.DataFrame(scaler.transform(X_test.values), columns = X_train.columns, index = X_test.index)"
      ],
      "execution_count": null,
      "outputs": []
    },
    {
      "cell_type": "code",
      "metadata": {
        "id": "KrHS4f2bhkcN"
      },
      "source": [
        "def correlation(data, threshold):\n",
        "    col_corr = set() \n",
        "    corr_matrix = data.corr()\n",
        "    for i in range(len(corr_matrix.columns)):\n",
        "        for j in range(i):\n",
        "            if (corr_matrix.iloc[i, j] >= threshold) and (corr_matrix.columns[j] not in col_corr):\n",
        "                colname = corr_matrix.columns[i] \n",
        "                col_corr.add(colname)\n",
        "                if colname in data.columns:\n",
        "                    del data[colname] \n",
        "correlation(X_train,0.90)"
      ],
      "execution_count": null,
      "outputs": []
    },
    {
      "cell_type": "code",
      "metadata": {
        "id": "TlP_hrjzh4bK"
      },
      "source": [
        "from sklearn.feature_selection import RFE\n",
        "from sklearn.linear_model import LinearRegression"
      ],
      "execution_count": null,
      "outputs": []
    },
    {
      "cell_type": "code",
      "metadata": {
        "id": "AxDFKxbch_LG"
      },
      "source": [
        "lm = LinearRegression()\n",
        "lm.fit(X_train, y_train)\n",
        "\n",
        "rfe = RFE(lm, 15)           \n",
        "rfe = rfe.fit(X_train, y_train)"
      ],
      "execution_count": null,
      "outputs": []
    },
    {
      "cell_type": "code",
      "metadata": {
        "colab": {
          "base_uri": "https://localhost:8080/"
        },
        "id": "1yzw0wjuiE1n",
        "outputId": "e655a744-664c-428d-9dfd-94c69c6a9a6f"
      },
      "source": [
        "col_rfe = X_train.columns[rfe.support_]\n",
        "col_rfe"
      ],
      "execution_count": null,
      "outputs": [
        {
          "output_type": "execute_result",
          "data": {
            "text/plain": [
              "Index(['color', 'num_critic_for_reviews', 'duration', 'actor_3_facebook_likes',\n",
              "       'actor_1_facebook_likes', 'gross', 'num_voted_users',\n",
              "       'facenumber_in_poster', 'num_user_for_reviews', 'language', 'budget',\n",
              "       'title_year', 'actor_2_facebook_likes', 'movie_facebook_likes',\n",
              "       'main_genre'],\n",
              "      dtype='object')"
            ]
          },
          "metadata": {
            "tags": []
          },
          "execution_count": 173
        }
      ]
    },
    {
      "cell_type": "code",
      "metadata": {
        "id": "L19AqNfoiKsN"
      },
      "source": [
        "X_train_rfe = X_train[col_rfe]"
      ],
      "execution_count": null,
      "outputs": []
    },
    {
      "cell_type": "code",
      "metadata": {
        "id": "aZtggJfmiQKe"
      },
      "source": [
        "import statsmodels.api as sm\n",
        "X_train_rfe_constant = sm.add_constant(X_train_rfe)"
      ],
      "execution_count": null,
      "outputs": []
    },
    {
      "cell_type": "code",
      "metadata": {
        "colab": {
          "base_uri": "https://localhost:8080/"
        },
        "id": "g4WyQguuiUfN",
        "outputId": "73056012-456e-4b87-9ddc-2f1f05340ea4"
      },
      "source": [
        "lm = sm.OLS(y_train,X_train_rfe_constant).fit()   \n",
        "print(lm.summary())"
      ],
      "execution_count": null,
      "outputs": [
        {
          "output_type": "stream",
          "text": [
            "                            OLS Regression Results                            \n",
            "==============================================================================\n",
            "Dep. Variable:             imdb_score   R-squared:                       0.377\n",
            "Model:                            OLS   Adj. R-squared:                  0.374\n",
            "Method:                 Least Squares   F-statistic:                     122.4\n",
            "Date:                Fri, 30 Jul 2021   Prob (F-statistic):          7.83e-298\n",
            "Time:                        17:53:36   Log-Likelihood:                -3793.9\n",
            "No. Observations:                3053   AIC:                             7620.\n",
            "Df Residuals:                    3037   BIC:                             7716.\n",
            "Df Model:                          15                                         \n",
            "Covariance Type:            nonrobust                                         \n",
            "==========================================================================================\n",
            "                             coef    std err          t      P>|t|      [0.025      0.975]\n",
            "------------------------------------------------------------------------------------------\n",
            "const                      6.8264      0.180     37.892      0.000       6.473       7.180\n",
            "color                     -0.3608      0.086     -4.220      0.000      -0.528      -0.193\n",
            "num_critic_for_reviews     2.0974      0.178     11.753      0.000       1.747       2.447\n",
            "duration                   2.9343      0.220     13.312      0.000       2.502       3.367\n",
            "actor_3_facebook_likes    -1.0232      0.245     -4.172      0.000      -1.504      -0.542\n",
            "actor_1_facebook_likes     0.9896      0.688      1.438      0.150      -0.359       2.339\n",
            "gross                     -1.0088      0.200     -5.049      0.000      -1.401      -0.617\n",
            "num_voted_users            6.4188      0.323     19.902      0.000       5.786       7.051\n",
            "facenumber_in_poster      -1.1126      0.313     -3.556      0.000      -1.726      -0.499\n",
            "num_user_for_reviews      -3.4556      0.332    -10.414      0.000      -4.106      -2.805\n",
            "language                   1.5674      0.203      7.703      0.000       1.168       1.966\n",
            "budget                    -1.1040      0.611     -1.806      0.071      -2.302       0.094\n",
            "title_year                -2.0488      0.177    -11.547      0.000      -2.397      -1.701\n",
            "actor_2_facebook_likes     0.3081      0.152      2.026      0.043       0.010       0.606\n",
            "movie_facebook_likes      -0.3907      0.228     -1.713      0.087      -0.838       0.056\n",
            "main_genre                 0.4281      0.085      5.052      0.000       0.262       0.594\n",
            "==============================================================================\n",
            "Omnibus:                      471.393   Durbin-Watson:                   1.926\n",
            "Prob(Omnibus):                  0.000   Jarque-Bera (JB):              994.415\n",
            "Skew:                          -0.916   Prob(JB):                    1.16e-216\n",
            "Kurtosis:                       5.113   Cond. No.                         78.1\n",
            "==============================================================================\n",
            "\n",
            "Warnings:\n",
            "[1] Standard Errors assume that the covariance matrix of the errors is correctly specified.\n"
          ],
          "name": "stdout"
        }
      ]
    },
    {
      "cell_type": "code",
      "metadata": {
        "colab": {
          "base_uri": "https://localhost:8080/"
        },
        "id": "Jq1ozjYKiX3D",
        "outputId": "dde23506-8419-4661-f782-c21f6620c830"
      },
      "source": [
        "X_test_rfe = X_test[col_rfe]\n",
        "X_test_rfe_constant = sm.add_constant(X_test_rfe)\n",
        "y_pred_linear = lm.predict(X_test_rfe_constant)\n",
        "y_pred_linear.values"
      ],
      "execution_count": null,
      "outputs": [
        {
          "output_type": "execute_result",
          "data": {
            "text/plain": [
              "array([ 7.01444312,  6.00876198,  6.62347135,  6.59482027,  6.18268366,\n",
              "        6.79254053,  6.71765315,  6.25384279,  6.08470355,  7.20717633,\n",
              "        5.71014709,  6.06612977,  5.9959564 ,  6.64196818,  6.08914272,\n",
              "        7.42534011,  6.98659027,  6.18680856,  6.7656102 ,  5.84074487,\n",
              "        5.88570792,  6.27443048,  6.38443962,  6.45300389,  5.94810376,\n",
              "        6.55519627,  6.83348579,  6.78324774,  7.49528209,  6.7076033 ,\n",
              "        6.41911769,  6.91743602,  6.19909485,  8.5792837 ,  5.99658715,\n",
              "        6.1153123 ,  6.07696256,  8.68334707,  6.58889215,  6.4787575 ,\n",
              "        6.39522147,  7.5316076 ,  5.82752705,  6.28471002,  6.73123554,\n",
              "        5.72430876,  6.07725613,  6.02306239,  5.93702133,  5.46658224,\n",
              "        6.4272058 ,  6.07471918,  5.74102048,  6.38838576,  7.40419389,\n",
              "        6.40289355,  5.98113985,  7.70453531,  8.19492268,  6.7685695 ,\n",
              "        7.04712224,  6.80422735,  9.94078061,  7.01846469,  8.20775291,\n",
              "        6.33402399,  6.35680065,  5.54112474,  6.49460001,  6.95320643,\n",
              "        6.1077915 ,  6.77861348,  5.89979206,  6.11757466,  6.56769757,\n",
              "        6.07898786,  6.09894807,  6.34864654,  6.28462213,  6.06344886,\n",
              "        6.67896183,  6.26708125,  5.6900226 ,  6.09804496,  7.17687135,\n",
              "        6.80343483,  9.2936546 ,  6.25060878,  5.97708893,  5.98551069,\n",
              "        6.53302944,  6.86141968,  6.4195812 ,  6.83240642,  6.71601208,\n",
              "        7.3574184 ,  6.26536451,  7.26739823,  6.33981875,  6.69735576,\n",
              "        5.85849456,  6.65665419,  6.36601689,  6.22925778,  6.26067074,\n",
              "        6.06169243,  7.19567132,  6.35786519,  7.6193287 ,  6.43435955,\n",
              "        6.79051612,  6.86136887,  6.32813145,  5.74222925,  6.68259266,\n",
              "        6.61671119,  5.74009576,  7.00903988,  7.74325908,  6.11405286,\n",
              "        7.60989869,  6.19226116,  5.81163381,  6.52134254,  6.20032616,\n",
              "        6.59550285,  7.52259346,  5.99911076,  5.98384559,  5.84605346,\n",
              "        6.54537472,  5.86255861,  6.06715117,  6.38005338,  6.47530756,\n",
              "        6.11636882,  5.71504247,  6.53060277,  7.23602877,  7.9957383 ,\n",
              "        6.08008597,  6.57033402,  7.6836214 ,  6.20019198,  6.03092416,\n",
              "        6.24876309,  6.23726326,  6.57265252,  6.17005615,  6.20210799,\n",
              "        6.77262489,  6.19147131,  6.76991856,  5.92795216,  6.06377103,\n",
              "        6.61585331,  7.06441291,  6.19610145,  6.46782712,  6.37241704,\n",
              "        5.63586991,  7.25474476,  6.96829038,  6.78625748,  6.46503481,\n",
              "        6.23551168,  5.92419713,  6.24987751,  7.67712297,  6.24988283,\n",
              "        5.84008071,  7.94358893,  6.29906698,  7.1589256 ,  6.29195319,\n",
              "        6.75674225,  6.40587035,  6.48889574,  7.14505097,  6.86725381,\n",
              "        6.18502399,  5.51875208,  5.96539252,  6.04442617,  6.29465585,\n",
              "        6.04802445,  5.99975866,  8.00829088,  7.12744368,  6.2979498 ,\n",
              "        6.5537354 ,  6.80870917,  5.91064586,  6.43525308,  6.77667533,\n",
              "        7.57716341,  6.21157027,  6.6172308 ,  6.42923658,  6.05737647,\n",
              "        6.81780002,  6.67406536,  6.43954199,  6.09379252,  7.56872381,\n",
              "        6.64216546,  6.2982413 ,  6.22231666,  5.9404799 ,  6.72407447,\n",
              "        5.88988139,  6.66384966,  6.20501767,  6.10281328,  5.4427566 ,\n",
              "        6.26981833,  6.13922053,  6.4088028 ,  7.26330704,  6.48447318,\n",
              "        6.33907907,  6.0144283 ,  6.26902963,  5.93925155,  6.2237208 ,\n",
              "        6.19056256,  6.22034983,  7.11237893,  6.30074649,  7.92732917,\n",
              "        6.41444925,  6.62002941,  6.07222206,  6.01523054,  6.54264732,\n",
              "        6.37123441,  6.49492952,  6.13655517,  7.36435425,  7.04562505,\n",
              "        8.97696393,  6.51025593,  6.04980787,  6.40145846,  6.37170652,\n",
              "        6.15351051,  5.78637192,  6.54410199,  6.05597997,  5.99549414,\n",
              "        5.59407126,  5.99662106,  6.74887423,  5.54502022,  6.09649921,\n",
              "        6.55840164,  6.49347791,  7.27922689,  5.77079801,  6.58741183,\n",
              "        6.22805196,  6.30303214,  6.10993779,  5.94756547,  5.54521954,\n",
              "        6.42095279,  6.02265969,  6.27956521,  5.92152949,  6.73473049,\n",
              "        5.68540873,  6.50954598,  6.08873957,  6.21163015,  6.15199405,\n",
              "        6.71236178,  5.78244426,  6.06810501,  6.30729665,  6.49903286,\n",
              "        7.06540656,  5.94969899,  7.31455884,  5.87292106,  8.23923134,\n",
              "        5.87083642,  5.9582297 ,  6.18313475,  6.14879359,  5.98514567,\n",
              "        6.27524655,  6.32182334,  6.5007595 ,  6.17042473,  6.79076453,\n",
              "        5.9049523 ,  6.65665343,  6.36022798,  6.46280353,  6.01718958,\n",
              "        6.28119645,  6.50855401,  6.27367248,  5.66700574,  6.33183109,\n",
              "        6.71268603,  7.283805  ,  6.22250404,  6.07339987,  6.04154328,\n",
              "        6.45677419,  5.72348801,  4.22900969,  8.05556047,  5.96250053,\n",
              "        6.53225024,  6.00109631,  7.3317144 ,  7.51401592,  5.8766708 ,\n",
              "        6.20029658,  6.01078157,  6.80142277,  5.67930959,  7.92583261,\n",
              "        6.00090556,  5.77468913,  7.46833602,  6.73391619,  9.2914372 ,\n",
              "        6.20960017,  6.70260262,  6.24221717,  5.85058944,  6.73499364,\n",
              "        5.81114328,  7.04249081,  6.32907046,  6.274517  ,  5.9889109 ,\n",
              "        5.81824617,  6.58427659,  6.49183953,  5.73546766,  7.19559454,\n",
              "        6.15443868,  6.74877786,  6.07017485,  5.79045305,  6.6413898 ,\n",
              "        8.189022  ,  6.00257543,  6.21917704,  5.95772676,  6.61659413,\n",
              "        7.51270485,  6.86250378,  6.17017735,  5.90496364,  6.29030756,\n",
              "        6.6783423 ,  6.48925282,  6.19443718,  6.33952312,  7.26164821,\n",
              "        6.04380702,  6.70863009,  5.90751674,  7.08487218,  6.71024076,\n",
              "        6.05406687,  5.88335329,  6.94040368,  6.10684993,  7.1927546 ,\n",
              "        6.8115464 ,  5.79862251,  5.79539035,  6.39321974,  6.00895891,\n",
              "        6.44311272,  6.45231899,  6.16807742,  6.09958337,  6.44488228,\n",
              "        7.09042015,  6.26943513,  6.49391649,  6.34107833,  6.39115242,\n",
              "        5.90563051,  6.09634274,  8.08887053,  6.10393951,  5.78627411,\n",
              "        5.92374689,  5.95016789,  5.93949908,  6.4731637 ,  8.44826466,\n",
              "        5.69480182,  6.70363477,  6.51495503,  5.9131167 ,  6.02365892,\n",
              "        5.84912726,  6.58788384,  5.72245227,  6.51354025,  5.68987254,\n",
              "        6.83523894,  6.88002629,  5.86464737,  6.69985233,  6.42712472,\n",
              "        5.97948586,  5.40940077,  6.31156297,  6.70203347,  6.10923648,\n",
              "        5.94567711,  6.07116563,  6.42268337,  5.87284826,  6.8955506 ,\n",
              "        6.04955246,  7.03701716,  6.7690469 ,  6.44846456,  5.99409098,\n",
              "        5.80772334,  5.77383824,  6.03193041,  6.74495677,  5.90484667,\n",
              "        6.18197985,  6.50649506,  7.17897095,  5.94794234,  6.4853657 ,\n",
              "        6.44635244,  8.19680847,  6.19357436,  5.88707597,  5.64585352,\n",
              "        5.73957016,  6.22880603,  6.10619147,  6.09469429,  6.16984236,\n",
              "        5.81690114,  7.09740376,  6.42341305,  6.59595603,  5.69960076,\n",
              "        7.11748518,  6.4197954 ,  5.94468312,  7.05993391,  5.64469199,\n",
              "        7.93414685,  6.74227466,  6.66238308,  6.33628148,  8.22561696,\n",
              "        6.55469714,  6.11493135,  6.45024932,  6.8683111 ,  6.25164502,\n",
              "        5.96494442,  5.91709433,  6.15006431,  6.44365713,  6.69988272,\n",
              "        7.03681332,  6.19511232,  5.95061831,  6.58506859,  7.15126841,\n",
              "        5.64406475,  6.80011852,  6.01136667,  6.7403674 ,  5.91120206,\n",
              "        6.05884373,  7.45721939,  6.93198441,  7.0756329 ,  5.69769759,\n",
              "        5.99499986,  9.55237278,  7.9656805 ,  5.80282446,  6.30162648,\n",
              "        6.43039813,  6.43370286,  7.39078449,  6.45644908,  6.333051  ,\n",
              "        6.52462051,  6.01074205,  6.24477531,  6.27505464,  7.13651959,\n",
              "        5.96909354,  6.65019128,  6.51673145,  6.67802657,  6.58498844,\n",
              "        5.92427786,  6.90438109,  6.49576497,  6.11994619,  6.48438139,\n",
              "        6.70550927,  6.43469491,  6.9102127 ,  6.44028909,  5.65193172,\n",
              "        6.18621801,  6.34749497,  7.69975682,  6.22261447,  5.57816294,\n",
              "        6.52217687,  7.94948028,  5.90849229,  5.78995822,  6.74749624,\n",
              "        6.54538231,  6.11233055,  6.15366431,  5.79742699,  6.4363126 ,\n",
              "        5.80522   ,  5.83391965,  6.43933752,  5.90171803,  6.97508594,\n",
              "        6.47511162,  6.68378361,  6.54166793,  5.85523074,  6.94170412,\n",
              "        6.33052491,  6.35867934,  6.31764243,  5.84858533,  6.14953201,\n",
              "        6.45431843,  6.04380702,  7.25187546,  6.30412615,  5.90575258,\n",
              "        6.45172087,  6.70991796,  6.00366095,  5.93902873,  7.10822888,\n",
              "        7.04484267,  6.1062322 ,  6.42566104,  6.20377184,  5.97716923,\n",
              "        9.09688977,  6.44708562,  6.36378089,  6.30788124,  6.34851919,\n",
              "        5.91320037,  6.05094146,  6.08843189,  6.33761116,  6.68647361,\n",
              "        7.28558696,  5.88369267,  5.81831716,  6.47864656,  5.96179678,\n",
              "        6.04710435,  6.00632327,  6.15608871,  5.94370644,  5.95142098,\n",
              "        6.26129077,  6.16084717,  6.54911051,  6.65401811,  6.30455519,\n",
              "        6.33869199,  5.9761729 ,  6.8219931 ,  6.49647624,  6.22451929,\n",
              "        5.85095411,  6.41152492,  6.82971444,  6.09316424,  6.3513206 ,\n",
              "        7.3537442 ,  8.02587966,  6.58400564,  5.83724702,  5.71308104,\n",
              "        6.41542072,  7.88027143,  6.76854681,  6.41583918,  7.72456905,\n",
              "        6.02692742,  6.42987289,  6.88589573,  6.03705629,  6.01266741,\n",
              "        5.81847581,  5.88521781,  6.47843902,  6.40094048,  6.9386258 ,\n",
              "        6.50918185,  7.37670489,  6.04022072,  6.7027812 ,  7.97129474,\n",
              "        5.667032  ,  6.30134597,  6.27425087,  6.44121654,  5.78910508,\n",
              "        6.37522398,  6.13802408,  6.01403536,  6.07923569, 10.42232896,\n",
              "        5.81701064,  6.6929865 ,  5.66144859,  7.64836821,  6.06970885,\n",
              "        7.66482855,  7.15021818,  5.73907937,  6.91044773,  7.00816465,\n",
              "        7.42268247,  5.93625303,  6.38337433,  6.46869506,  6.58372315,\n",
              "        6.20568159,  6.26154761,  6.65780666,  6.57827224,  6.38444268,\n",
              "        5.69379041,  5.60641813,  6.81442859,  5.93377003,  7.58862828,\n",
              "        6.39220674,  6.02521452,  5.83845626,  5.95926353, 10.66469837,\n",
              "        6.02908676,  5.70371781,  5.95369812,  7.67037693,  6.59646858,\n",
              "        9.86699488,  5.91806275,  6.07221182,  6.08406952,  6.1050526 ,\n",
              "        5.74238741,  5.93811455,  5.9171457 ,  7.32447183,  6.15333266,\n",
              "        7.10672317,  5.93598167,  5.99253314,  5.86523774,  6.64058503,\n",
              "        6.3136585 ,  6.08549748,  6.13823511,  5.70000006,  5.73122672,\n",
              "        5.8690804 ,  6.89286465,  5.89062604,  6.04140067,  6.167561  ,\n",
              "        6.59797452,  6.18420537,  6.22729618,  6.36669937,  6.15675684,\n",
              "        6.87611213,  6.05312108,  6.72227043,  6.37326009,  6.02299821,\n",
              "        6.11843381,  5.99468849,  6.27757411,  6.15790642,  6.75300204,\n",
              "        6.85807015,  6.11895302,  8.25581907,  5.6595498 ,  6.14232042,\n",
              "        6.5770143 ,  6.33368037,  6.76689137,  7.00661649,  5.98409742,\n",
              "        6.11064449,  5.86027521,  6.04245422,  5.87572863,  6.10881253,\n",
              "        6.28651308,  7.58377321,  6.08103034,  6.82925452,  6.86310695,\n",
              "        6.83888807,  6.12001288,  6.65993953,  7.6752316 ,  6.43508087,\n",
              "        7.47535674,  7.03011855,  6.57779147,  6.37566343,  6.73568608,\n",
              "        6.59515775,  7.66768608,  6.24842859,  6.46554374,  7.23298334,\n",
              "        6.14017329,  6.31792255,  6.01220764,  6.76173518,  5.64701079,\n",
              "        6.56848577,  5.97890944,  6.06093829,  6.10379742,  5.80686702,\n",
              "        6.28243399,  7.04786523,  5.73648904,  6.05909793,  7.04155029,\n",
              "        6.14810088,  6.092187  ,  6.41011302,  6.12397594])"
            ]
          },
          "metadata": {
            "tags": []
          },
          "execution_count": 177
        }
      ]
    },
    {
      "cell_type": "code",
      "metadata": {
        "colab": {
          "base_uri": "https://localhost:8080/"
        },
        "id": "zmrKcvxGiciW",
        "outputId": "67c3059a-6bae-4bf4-fabd-adfe18ed201a"
      },
      "source": [
        "y_pred_linear.min(), y_pred_linear.max()"
      ],
      "execution_count": null,
      "outputs": [
        {
          "output_type": "execute_result",
          "data": {
            "text/plain": [
              "(4.229009694035674, 10.664698367074884)"
            ]
          },
          "metadata": {
            "tags": []
          },
          "execution_count": 178
        }
      ]
    },
    {
      "cell_type": "code",
      "metadata": {
        "colab": {
          "base_uri": "https://localhost:8080/"
        },
        "id": "PNDxDPywijwt",
        "outputId": "b503a94f-fd6a-4c82-d09a-73592283086d"
      },
      "source": [
        "from sklearn.metrics import mean_squared_error\n",
        "mean_squared_error(y_pred_linear, y_test)"
      ],
      "execution_count": null,
      "outputs": [
        {
          "output_type": "execute_result",
          "data": {
            "text/plain": [
              "0.7064048678599871"
            ]
          },
          "metadata": {
            "tags": []
          },
          "execution_count": 179
        }
      ]
    },
    {
      "cell_type": "code",
      "metadata": {
        "colab": {
          "base_uri": "https://localhost:8080/"
        },
        "id": "7ms7CGF6ilSk",
        "outputId": "cecd9ee9-1374-4094-b9c7-6a589dc8dd9e"
      },
      "source": [
        "from sklearn.svm import SVR\n",
        "svr_rbf = SVR(kernel='rbf', gamma=0.1)\n",
        "svr_lin = SVR(kernel='linear', gamma='auto')\n",
        "svr_poly = SVR(kernel='poly', gamma='auto', degree=3)\n",
        "svr_rbf.fit(X_train_rfe, y_train)\n",
        "y_pred_svm_rbf = svr_rbf.predict(X_test_rfe)\n",
        "y_pred_svm_rbf"
      ],
      "execution_count": null,
      "outputs": [
        {
          "output_type": "execute_result",
          "data": {
            "text/plain": [
              "array([7.13693576, 6.08113513, 6.77808165, 6.59318336, 6.26117227,\n",
              "       6.76335536, 6.94767209, 6.3861124 , 6.1395267 , 7.06277244,\n",
              "       5.96135133, 6.21115658, 6.42724741, 6.75124309, 6.21902249,\n",
              "       7.76001253, 7.11317133, 6.26515929, 6.80258488, 6.05281246,\n",
              "       6.10723795, 6.25076868, 6.65536616, 6.5606972 , 6.09113033,\n",
              "       6.69135271, 6.80187125, 6.86217694, 7.49892584, 6.89491778,\n",
              "       6.74152486, 7.05190519, 6.45804696, 8.30881778, 6.11161271,\n",
              "       6.24325829, 6.21618488, 8.05413198, 6.47557152, 6.56259474,\n",
              "       6.45950159, 7.33496651, 6.00391353, 7.13339919, 6.85608267,\n",
              "       5.9068141 , 6.24892883, 6.08417666, 6.13227679, 5.73604416,\n",
              "       6.56252083, 6.33413872, 5.83216684, 6.63872997, 7.30683801,\n",
              "       6.52196493, 6.11905187, 7.54156147, 8.441141  , 6.80261269,\n",
              "       7.07092282, 6.78956984, 9.09365559, 7.00108708, 8.21972302,\n",
              "       6.40869278, 7.23921413, 5.81769794, 6.59008364, 7.14253524,\n",
              "       6.30329565, 7.20499307, 6.16348681, 6.27976562, 6.57121336,\n",
              "       6.28424963, 6.32279469, 6.44937533, 6.47258632, 6.22265266,\n",
              "       6.82906996, 6.29666384, 5.82510803, 6.28262025, 7.01506714,\n",
              "       7.19284676, 8.93486362, 6.30633494, 6.14639514, 6.25963859,\n",
              "       6.54307126, 6.84924592, 6.41804702, 6.76130583, 6.82113819,\n",
              "       7.44165915, 6.35810801, 7.26880745, 6.4869866 , 6.88681264,\n",
              "       5.87366716, 6.65960136, 6.47891934, 6.31504331, 6.3066754 ,\n",
              "       6.13506366, 7.09993901, 6.53675109, 7.58248009, 6.42160614,\n",
              "       6.78990162, 6.93072243, 6.60932993, 5.9103457 , 6.83062692,\n",
              "       6.57711549, 5.91283778, 7.07138714, 7.74251159, 6.22161514,\n",
              "       7.65437436, 6.29988163, 5.9602958 , 6.66683713, 6.29969895,\n",
              "       6.73830337, 7.92851465, 6.27801031, 6.19448194, 6.31086516,\n",
              "       6.58691878, 6.09726171, 6.24987731, 7.07046708, 6.56944831,\n",
              "       6.34721377, 5.94517616, 6.74094491, 7.1094273 , 8.04569318,\n",
              "       6.33946892, 6.66152754, 7.41686082, 6.25864936, 6.1539585 ,\n",
              "       6.53168879, 6.44693389, 6.67279085, 6.63734875, 6.31334322,\n",
              "       6.72250858, 6.3118216 , 6.6830422 , 6.17721837, 6.11194276,\n",
              "       6.85783505, 6.96638058, 6.44235163, 6.44888472, 6.51959539,\n",
              "       5.81506029, 7.20161976, 7.19025965, 6.74409098, 6.71256295,\n",
              "       6.44660866, 6.07972891, 6.35158696, 7.70104196, 6.24606284,\n",
              "       6.13656875, 7.70207737, 6.444551  , 7.18939901, 6.47803328,\n",
              "       7.02984768, 7.00153754, 6.57672629, 7.32990101, 6.99490573,\n",
              "       6.50546905, 5.69068346, 6.15169517, 6.21041299, 6.4303461 ,\n",
              "       6.2774236 , 6.22627123, 8.00424464, 7.23921248, 6.65713132,\n",
              "       6.87498733, 6.92989509, 6.04660391, 6.65899749, 6.89243528,\n",
              "       7.33369668, 6.38372231, 6.69954053, 6.53939361, 6.32786392,\n",
              "       7.18316446, 6.78162997, 6.69172698, 6.22541458, 7.45626133,\n",
              "       6.70770829, 6.3687587 , 6.33568729, 6.15583662, 6.77014524,\n",
              "       6.0888132 , 6.72390634, 6.40429153, 6.26936909, 5.73557915,\n",
              "       6.37992829, 6.24755853, 6.52973811, 7.3732887 , 6.48288807,\n",
              "       6.69545961, 6.20842591, 6.39586229, 6.04644887, 6.40701926,\n",
              "       6.48969868, 6.46231906, 6.99697267, 6.38299915, 7.54983764,\n",
              "       6.59781057, 6.7736318 , 6.26184647, 6.29699378, 6.59135012,\n",
              "       6.93877846, 6.7421288 , 6.32072529, 7.21433679, 7.04269318,\n",
              "       8.73841154, 6.63661344, 6.33011692, 6.54979263, 6.42308222,\n",
              "       6.80056075, 5.94741234, 6.5595302 , 6.13728185, 6.53792683,\n",
              "       5.83896457, 6.18865037, 6.86025015, 5.78940457, 6.11119475,\n",
              "       6.77348793, 6.76914296, 7.19029276, 5.99286435, 6.5243984 ,\n",
              "       6.22915514, 6.38321786, 6.28607624, 6.0511558 , 5.87160794,\n",
              "       6.60270667, 6.3090483 , 6.47257676, 6.11402379, 6.88730917,\n",
              "       5.84811727, 6.61989531, 6.22438976, 6.35244885, 6.14968261,\n",
              "       6.72080457, 5.9581535 , 6.17516959, 6.34108343, 7.01604885,\n",
              "       7.32161491, 6.05830679, 7.08692253, 6.12926892, 7.76367733,\n",
              "       6.02143756, 6.2338998 , 6.32635082, 6.53076377, 6.10534672,\n",
              "       6.45304647, 6.34699421, 6.55661815, 6.21071558, 6.82628031,\n",
              "       6.10510795, 6.63296653, 6.51674328, 6.56094942, 6.19887382,\n",
              "       6.46568365, 6.65825527, 6.38654207, 5.85250478, 6.49003326,\n",
              "       6.80622085, 7.09630891, 6.266852  , 6.2383163 , 6.3579086 ,\n",
              "       6.49856367, 5.88552745, 5.63807313, 7.88425141, 6.10119671,\n",
              "       6.62073271, 6.2910287 , 7.35293235, 7.59559265, 6.0493053 ,\n",
              "       6.20170285, 6.14134301, 6.76506013, 6.03607549, 7.99478666,\n",
              "       6.21401653, 6.04010422, 7.44632838, 7.39883684, 8.81818344,\n",
              "       6.89122679, 7.12683039, 6.40787067, 6.17432834, 6.89967992,\n",
              "       6.07914334, 7.16927148, 6.30476645, 6.38270212, 6.21852176,\n",
              "       5.97282009, 7.03873329, 6.51375359, 5.947716  , 7.3377513 ,\n",
              "       6.37404935, 6.86418214, 6.28827307, 5.99796137, 6.53113215,\n",
              "       8.15509899, 6.21381889, 6.3661853 , 6.27167109, 6.71078349,\n",
              "       7.48977334, 7.07765887, 6.48419818, 6.15975559, 6.78786846,\n",
              "       6.70295906, 6.60474074, 6.31728326, 6.51585202, 7.16310953,\n",
              "       6.21003583, 6.84794891, 6.13843786, 7.09849623, 6.54991828,\n",
              "       6.27344733, 6.02373657, 6.99097801, 6.37162706, 7.2358919 ,\n",
              "       7.19972422, 6.00771726, 6.01097171, 6.55324834, 6.19031081,\n",
              "       6.6148951 , 6.50307659, 6.30045979, 6.2815652 , 6.46764972,\n",
              "       6.95777078, 6.40710975, 6.46260358, 6.35229705, 6.35383017,\n",
              "       6.12113152, 6.33707838, 8.07437347, 6.16951436, 5.90570986,\n",
              "       6.17130166, 6.1594313 , 6.13227689, 6.62629479, 8.37531294,\n",
              "       5.84692747, 6.76949013, 6.84976534, 6.09128399, 6.65683298,\n",
              "       6.27841043, 6.66227026, 5.91714669, 6.73802314, 5.93505142,\n",
              "       6.67687246, 7.04737197, 6.07754193, 6.76242788, 6.62122185,\n",
              "       6.15724067, 7.03645098, 6.43171164, 6.84909543, 6.26769522,\n",
              "       6.44821782, 6.22762498, 6.44228698, 6.02498329, 7.00608826,\n",
              "       6.21073457, 7.05826469, 7.22163182, 6.48714367, 6.04875897,\n",
              "       6.00067253, 5.95633735, 6.4357929 , 6.88108545, 6.06827971,\n",
              "       6.38211379, 6.52940006, 7.08690904, 6.2761522 , 6.474862  ,\n",
              "       6.53917492, 7.76307669, 6.29447052, 6.03162788, 6.0509349 ,\n",
              "       5.90204052, 6.30407008, 6.28093524, 6.30035587, 6.4351059 ,\n",
              "       5.93437683, 7.14483655, 6.48416786, 6.74803578, 5.87358811,\n",
              "       7.1962986 , 6.55482701, 6.10725566, 7.42303541, 5.843972  ,\n",
              "       7.81690407, 6.92105002, 6.67360878, 6.35043914, 7.97382938,\n",
              "       6.52348714, 6.25608072, 6.48499023, 6.86678643, 6.42179223,\n",
              "       6.12632971, 6.11701341, 6.30514228, 6.61252537, 6.76244616,\n",
              "       7.01136751, 6.46618483, 6.10841812, 6.8473938 , 7.12305082,\n",
              "       6.0697041 , 6.84381419, 6.20850712, 6.89313987, 6.32605975,\n",
              "       6.25206323, 7.40398657, 7.1469514 , 7.04618335, 5.92007904,\n",
              "       6.1525773 , 8.85657427, 5.81456025, 5.99682833, 6.45207444,\n",
              "       6.58517873, 6.87731171, 7.19488783, 6.64189906, 6.4943558 ,\n",
              "       6.75732033, 6.30621775, 6.42760309, 6.3304681 , 7.18366702,\n",
              "       6.21163   , 6.84294995, 6.64644973, 6.73245875, 6.72867153,\n",
              "       6.1367442 , 6.9234181 , 6.65772911, 6.30364297, 6.62151946,\n",
              "       6.73349419, 6.6723672 , 7.16720283, 6.50890441, 6.80388987,\n",
              "       6.44070064, 6.4731591 , 7.49474901, 6.40782583, 5.74979037,\n",
              "       6.43755776, 7.96575173, 5.94623016, 5.9977321 , 6.75210728,\n",
              "       6.58692342, 6.31398371, 6.54628352, 6.03772887, 6.57068514,\n",
              "       6.0858244 , 5.96401394, 6.4897282 , 6.06959289, 6.88464637,\n",
              "       6.60239462, 6.90760622, 6.70452864, 6.06329516, 7.0696709 ,\n",
              "       6.52252616, 6.47167238, 6.3157022 , 6.01479864, 6.21985965,\n",
              "       6.58835935, 6.21003583, 7.09068946, 6.66953881, 6.18255458,\n",
              "       6.65040555, 6.73779174, 6.28249674, 6.16711735, 7.04742572,\n",
              "       6.98649641, 6.18131287, 6.60386769, 6.43009634, 6.07623163,\n",
              "       8.71655661, 6.47723357, 6.36017083, 6.63697496, 6.49100744,\n",
              "       6.14231433, 6.27292661, 6.19911893, 6.39848332, 6.83138101,\n",
              "       7.34733876, 6.06775096, 6.06808723, 6.65394358, 6.02758887,\n",
              "       6.24410299, 5.83027597, 6.24479973, 6.04086759, 6.15744914,\n",
              "       6.44860299, 6.42427071, 6.63993933, 6.74174758, 6.47365444,\n",
              "       6.72944898, 6.10831023, 6.90590538, 6.68038255, 6.37325209,\n",
              "       6.11603326, 6.43114998, 6.70939139, 6.26647393, 6.52917317,\n",
              "       7.19013702, 7.78258158, 6.80526108, 6.08053568, 5.90082441,\n",
              "       6.54934634, 7.84262072, 6.76494865, 6.6122349 , 7.46980144,\n",
              "       6.26745859, 6.59557219, 6.94761166, 6.27203024, 6.25092203,\n",
              "       6.04276981, 6.08606122, 6.85368205, 6.45053267, 6.84697145,\n",
              "       6.60637083, 7.67063478, 6.38992584, 6.87872251, 7.63675191,\n",
              "       5.81750928, 6.39729871, 6.46771057, 6.54159298, 6.04245775,\n",
              "       6.56955316, 6.28943596, 6.20938885, 6.31875453, 9.32302064,\n",
              "       5.93314922, 6.64586911, 5.80806114, 7.7303426 , 6.33264913,\n",
              "       7.49308037, 7.11615044, 6.12696364, 6.8629544 , 7.09631916,\n",
              "       7.14568356, 6.13600067, 6.53437839, 6.47621294, 6.67843074,\n",
              "       6.23000343, 6.54123021, 6.72942941, 6.92062076, 6.55187211,\n",
              "       5.91675872, 5.89189732, 6.81687795, 6.23151121, 7.5878262 ,\n",
              "       6.3949337 , 6.2238142 , 5.93283066, 6.11283641, 9.26818655,\n",
              "       6.62374443, 5.90713495, 6.1917037 , 7.427921  , 6.71271747,\n",
              "       9.17897032, 6.18536493, 6.27385361, 6.29067996, 6.23494782,\n",
              "       5.95103834, 6.14935691, 6.04755667, 7.28729415, 6.25358658,\n",
              "       6.94771934, 6.05268822, 6.20954177, 6.81535812, 6.728886  ,\n",
              "       6.36101573, 6.18759008, 6.26659108, 5.94387984, 5.93218617,\n",
              "       6.08133629, 6.82690013, 6.10996787, 6.20792686, 6.44905255,\n",
              "       6.77089605, 6.25284327, 6.24066759, 6.46249672, 6.62555344,\n",
              "       6.90314991, 6.25616038, 6.93915404, 6.4678139 , 6.16304355,\n",
              "       6.3627619 , 6.15288284, 6.43607866, 6.29959222, 6.80938656,\n",
              "       6.96697128, 6.26132142, 7.95726525, 5.88927525, 6.32346027,\n",
              "       6.57032008, 6.41479589, 6.92518897, 7.05170393, 6.06853077,\n",
              "       6.43094609, 6.08897994, 6.25398295, 6.09995325, 6.21325705,\n",
              "       6.31322795, 7.60703485, 6.25065889, 6.88215178, 6.81472112,\n",
              "       6.81899309, 6.23692551, 6.82937088, 7.46534849, 6.47235419,\n",
              "       7.37510395, 7.07006474, 6.61800403, 6.54731129, 6.8325027 ,\n",
              "       6.74527076, 7.91539102, 6.38686923, 6.68558209, 7.16035352,\n",
              "       6.19066998, 6.36812579, 6.10625937, 6.88634092, 5.86236157,\n",
              "       6.74492303, 6.18345316, 6.19151216, 6.23660546, 5.892935  ,\n",
              "       6.4744178 , 7.2002577 , 5.91410092, 6.21793135, 7.15854444,\n",
              "       6.27395635, 6.30172902, 6.49407944, 6.32600592])"
            ]
          },
          "metadata": {
            "tags": []
          },
          "execution_count": 180
        }
      ]
    },
    {
      "cell_type": "code",
      "metadata": {
        "colab": {
          "base_uri": "https://localhost:8080/"
        },
        "id": "wt0883Obiqu1",
        "outputId": "7e23a7d2-7b18-4e35-db54-1528d2931dff"
      },
      "source": [
        "y_pred_svm_rbf.min(), y_pred_svm_rbf.max()"
      ],
      "execution_count": null,
      "outputs": [
        {
          "output_type": "execute_result",
          "data": {
            "text/plain": [
              "(5.638073133700937, 9.323020641193724)"
            ]
          },
          "metadata": {
            "tags": []
          },
          "execution_count": 181
        }
      ]
    },
    {
      "cell_type": "code",
      "metadata": {
        "colab": {
          "base_uri": "https://localhost:8080/"
        },
        "id": "sG2V8nTIix3Z",
        "outputId": "57a3f4be-10e9-4b5a-8c06-b03ac444e135"
      },
      "source": [
        "mean_squared_error(y_pred_svm_rbf, y_test)"
      ],
      "execution_count": null,
      "outputs": [
        {
          "output_type": "execute_result",
          "data": {
            "text/plain": [
              "0.6805348154672604"
            ]
          },
          "metadata": {
            "tags": []
          },
          "execution_count": 182
        }
      ]
    },
    {
      "cell_type": "code",
      "metadata": {
        "colab": {
          "base_uri": "https://localhost:8080/"
        },
        "id": "ZbJjw2jpi2Ul",
        "outputId": "cdd8387c-b45b-4292-cdd0-a94e3f040ed1"
      },
      "source": [
        "mean_squared_error(y_pred_svm_rbf, y_test)"
      ],
      "execution_count": null,
      "outputs": [
        {
          "output_type": "execute_result",
          "data": {
            "text/plain": [
              "0.6805348154672604"
            ]
          },
          "metadata": {
            "tags": []
          },
          "execution_count": 183
        }
      ]
    },
    {
      "cell_type": "code",
      "metadata": {
        "id": "kbqH8Pchi5As"
      },
      "source": [
        "svr_lin.fit(X_train_rfe, y_train)\n",
        "y_pred_svm_lin = svr_lin.predict(X_test_rfe)"
      ],
      "execution_count": null,
      "outputs": []
    }
  ]
}